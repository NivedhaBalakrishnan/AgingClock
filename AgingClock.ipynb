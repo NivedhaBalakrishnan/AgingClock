{
 "cells": [
  {
   "cell_type": "code",
   "execution_count": 1,
   "id": "5cd2c4ba",
   "metadata": {},
   "outputs": [],
   "source": [
    "import math\n",
    "import torch\n",
    "from torch import nn\n",
    "from pathlib import Path\n",
    "import pandas as pd\n",
    "import ipywidgets as widgets\n",
    "from ipywidgets import GridspecLayout,Dropdown,BoundedFloatText,Button,Layout\n",
    "import ageclock\n",
    "from ageclock import NN\n",
    "\n",
    "device = torch.device('cuda:0' if torch.cuda.is_available() else 'cpu')\n",
    "DEBUG = False"
   ]
  },
  {
   "cell_type": "code",
   "execution_count": 2,

   "id": "99f018c8",
   "metadata": {},
   "outputs": [
    {
     "data": {
      "application/vnd.jupyter.widget-view+json": {
       "model_id": "2bf354d88937485f90182081846a28e3",
       "version_major": 2,
       "version_minor": 0
      },
      "text/plain": [
       "GridspecLayout(children=(HTML(value='<center><h1 style=\"font-family:verdana\"><font color=\\n    \"paleturquoise\"…"
      ]
     },
     "metadata": {},
     "output_type": "display_data"
    }
   ],
   "source": [
    "def example_change(change):\n",
    "    def change_values(age):\n",
    "        sex_box.index = None\n",
    "        sex_box.value = 'Male' if samples[age][0] == 1 else 'Female'\n",
    "        for i in range(len(samples[age])):\n",
    "            grid[i+2, 2].value = samples[age][i+1]\n",
    "        \n",
    "    if change['type'] == 'change' and change['name'] == 'value':\n",
    "        if change['new'] == '-':\n",
    "            sex_box.index = None\n",
    "            sex_box.value = '-'\n",
    "            for i in range(len(list(samples.values())[0])):\n",
    "                grid[i+2, 2].value = 0\n",
    "        elif float(change['new'].split()[1]) in list(samples.keys()):\n",
    "            change_values(int(change['new'].split()[1]))"
   ]
  },
  {
   "cell_type": "code",
   "execution_count": 3,
   "id": "f094da03",
   "metadata": {},
   "outputs": [],
   "source": [
    "def create_button(description, button_style, height='auto'):\n",
    "    button = Button(description=description,\n",
    "                  tooltip=description,\n",
    "                  button_style=button_style,\n",
    "                  disabled=True,\n",
    "                  layout=Layout(height=height, width='auto'))\n",
    "    button.style.font_weight = 'bold'\n",
    "    return button"
   ]
  },
  {
   "cell_type": "code",
   "execution_count": 4,
   "id": "2cb7832c",
   "metadata": {},
   "outputs": [],
   "source": [
    "def submit_clicked(b):\n",
    "    def predict(inputs):\n",
    "        path = Path('models/adm_state_dict')\n",
    "        lm = NN()\n",
    "        lm.load_state_dict(torch.load(path))\n",
    "        lm.eval()\n",
    "        inputs = torch.Tensor(inputs)\n",
    "        return(lm(inputs)-27)\n",
    "\n",
    "    age_button.button_style='primary'\n",
    "    markers = [grid[i+2, 2].value for i in range(len(biomarkers))]\n",
    "    if sex_box.value=='-':\n",
    "        age_button.description='Please enter your Sex'\n",
    "        age_button.style.button_color = 'orange'\n",
    "    elif 0 in markers:\n",
    "        age_button.description='Please enter missing biomarkers'\n",
    "        age_button.style.button_color = 'orange'\n",
    "    else:\n",
    "        markers.insert(0, int(sex_box.value=='Male'))\n",
    "        age_button.style.button_color = '#2471a3'\n",
    "        if DEBUG: age_button.tooltip = str(markers)\n",
    "        age_button.description='Your biological age is {} '.format(\n",
    "            round(predict(markers).data.item()))"
   ]
  },
  {
   "cell_type": "code",
   "execution_count": 5,
   "id": "6820812f",
   "metadata": {},
   "outputs": [],
   "source": [
    "warn_text='''Age predictor needs all blood marker values and your Sex to make\n",
    "a prediction. If you are missing values and filling them in, this might have\n",
    "a dramatic impact on the results. However your entered Height, Weight, and\n",
    "Smoking Status are not required for estimating your biological age and only\n",
    "used for record keeping.'''\n",
    "title_text = ['Deep Biomarkers Of Human Aging: How Old By a Basic Blood Test',\n",
    "         '''This is a deep-learned predictor of your age made with a DNN\n",
    "         trained on tens of thousands anonymized human blood tests. <br>\n",
    "         Enter yourdata below and the model will guess your age.''']\n",
    "asterics_text = [\n",
    "    '* This should be in your clinical biochemistry blood test results.',\n",
    "    '''** Required parameter for minimal prediction accuracy of 70% within\n",
    "    10 year frame.''',\n",
    "    '''*** We can not show you reference values before knowing your age\n",
    "    apriori, so this is only a reference metric.''']"
   ]
  },
  {
   "cell_type": "code",
   "execution_count": 6,
   "id": "ca38cedb",
   "metadata": {},
   "outputs": [],
   "source": [
    "biomarkers=pd.read_csv('data/non_NHANES/markers_units.csv').values.tolist()\n",
    "\n",
    "samples = [list(pd.read_csv('data/non_NHANES/samples_from_aging.csv').iloc[i]) \n",
    "           for i in range(len(pd.read_csv(\n",
    "               'data/non_NHANES/samples_from_aging.csv')))]\n",
    "samples = {sample[-1]:sample[:-1] for sample in samples}"

   ]
  },
  {
   "cell_type": "code",
   "execution_count": 7,
   "id": "6b50ce1b",
   "metadata": {},
   "outputs": [
    {
     "data": {
      "application/vnd.jupyter.widget-view+json": {
       "model_id": "9c415634c1eb48a187f71051dcf1cdc7",
       "version_major": 2,
       "version_minor": 0
      },
      "text/plain": [
       "GridspecLayout(children=(HTML(value='<center><h1 style=\"font-family:verdana\"><font color=\\n    \"paleturquoise\"…"
      ]
     },
     "metadata": {},
     "output_type": "display_data"
    }
   ],
   "source": [
    "header_grid = widgets.GridspecLayout(4, 5, width='auto')\n",
    "\n",
    "title_html = widgets.HTML(\n",
    "    value='''<center><h1 style=\"font-family:verdana\"><font color=\n",
    "    \"paleturquoise\">{}</h1><hr><h2 style=\"font-family:verdana\">\n",
    "    {}</h2></center>'''.format(*title_text))\n",
    "\n",
    "height_box = widgets.Text(\n",
    "    placeholder='Enter your height (Optional)',\n",
    "    description='Height:')\n",
    "\n",
    "weight_box = widgets.Text(\n",
    "    placeholder='Enter your weight (Optional)',\n",
    "    description='Weight:')\n",
    "\n",
    "load_html = widgets.HTML(value = '<center><h3>Load an Example</h3></center>',\n",
    "                          layout=Layout(top='45px', left='5px'))\n",
    "\n",
    "sex_box = widgets.Dropdown(options=['-','Male','Female'], description='Sex:')\n",
    "\n",
    "smoke_box = widgets.Dropdown(options=['-','No','Yes'], description='Smoke:')\n",
    "\n",
    "load_box = widgets.Dropdown(\n",
    "    value='-',\n",
    "    options=['-']+['Male '+str(int(x))+' y/o' for x in list(samples.keys())],\n",
    "    description=' ',\n",
    "    layout=Layout(bottom='45px', right='5px'))\n",
    "load_box.observe(example_change)\n",
    "\n",
    "header_grid[0:1,1:-1] = title_html \n",
    "header_grid[2,1] = height_box\n",
    "header_grid[2,2] = weight_box\n",
    "header_grid[2,3] = load_html \n",
    "header_grid[3,1] = sex_box\n",
    "header_grid[3,2] = smoke_box \n",
    "header_grid[3,3] = load_box\n",
    "\n",
    "header_grid"
   ]
  },
  {
   "cell_type": "code",
   "execution_count": 8,
   "id": "3e0f91b3",
   "metadata": {},
   "outputs": [
    {
     "data": {
      "application/vnd.jupyter.widget-view+json": {
       "model_id": "10599924e1184e8b8442a6d162effe9e",
       "version_major": 2,
       "version_minor": 0
      },
      "text/plain": [
       "GridspecLayout(children=(HTML(value='<center><h4><font color=\"orange\">Age predictor needs all blood marker val…"
      ]
     },
     "metadata": {},
     "output_type": "display_data"
    }
   ],
   "source": [
    "grid=widgets.GridspecLayout(len(biomarkers)+3,5,height='950px',width='auto')\n",
    "HEIGHT = '28px'\n",
    "\n",
    "grid[0,1:-1] = widgets.HTML(\n",
    "    value='<center><h4><font color=\"orange\">{}</h4></center>'.format(\n",
    "        warn_text))\n",
    "\n",
    "grid[1,1] = create_button('Blood Marker*', 'primary', '50px')\n",
    "grid[1,2] = create_button('Your Value', 'primary', '50px')\n",
    "grid[1,3] = create_button('Units and Sample Metric***', 'primary', '50px')\n",
    "\n",
    "for i, marker in enumerate(biomarkers): \n",
    "        grid[i+2,1] = create_button(marker[0], 'info', HEIGHT)\n",
    "        grid[i+2,3] = create_button(marker[1], 'info', HEIGHT)\n",
    "        grid[i+2,2] = BoundedFloatText(min=0,\n",
    "                                        max=1000,\n",
    "                                        layout=Layout(height='auto',\n",
    "                                                      width='auto'),\n",
    "                                        value=None,\n",
    "                                        step=0.01,\n",
    "                                        disabled=False)\n",
    "        \n",
    "grid[-1,1:] = widgets.HTML(\n",
    "    value = '''<p><font color=\"orange\">{}</p><p><fontcolor=\n",
    "    \"orange\">{}</p><p><font color=\"orange\">{}\n",
    "    </h4>'''.format(*asterics_text))\n",
    "\n",
    "grid"
   ]
  },
  {
   "cell_type": "code",
   "execution_count": 9,
   "id": "8457ef85",
   "metadata": {},
   "outputs": [
    {
     "data": {
      "application/vnd.jupyter.widget-view+json": {
       "model_id": "d83bc4c5c08042618e73598455a8c305",
       "version_major": 2,
       "version_minor": 0
      },
      "text/plain": [
       "GridspecLayout(children=(Button(button_style='primary', description='Submit', layout=Layout(bottom='0px', grid…"
      ]
     },
     "metadata": {},
     "output_type": "display_data"
    }
   ],
   "source": [
    "footer_grid = widgets.GridspecLayout(3,5)\n",
    "\n",
    "submit_button = Button(description='Submit',\n",
    "                tooltip='Predict your age with entered biomarkers',\n",
    "                button_style='primary',\n",
    "                layout=Layout(height='50px', width='auto', bottom='0px'))\n",
    "age_button = Button(layout=Layout(height='50px', width='auto', top='15px'))\n",
    "age_button.style.button_color = '#111111'\n",
    "age_button.style.font_weight = 'bold'\n",
    "submit_button.style.font_weight = 'bold'\n",
    "submit_button.on_click(submit_clicked)\n",
    "footer_grid[0,2] = submit_button\n",
    "footer_grid[1,2] = age_button\n",
    "\n",
    "footer_grid"
   ]
  },
  {
   "cell_type": "code",
   "execution_count": 10,
   "id": "cd6dab1b",
   "metadata": {},
   "outputs": [
    {
     "data": {
      "application/vnd.jupyter.widget-view+json": {
       "model_id": "b6700c3db72547bb8471c45d7b09a57a",
       "version_major": 2,
       "version_minor": 0
      },
      "text/plain": [
       "HTML(value=\"<center><br><br><br><br><br><br><hr><br>Made by Dmytro Mishchenko as a project for the\\n    <a hre…"
      ]
     },
     "metadata": {},
     "output_type": "display_data"
    }
   ],
   "source": [
    "footer_html = {\n",
    "    'gap':'<br><br><br><br><br><br><hr>',\n",
    "\n",
    "    'sjsu':'''Made by Dmytro Mishchenko as a project for the\n",
    "    <a href='https://pytorch2021.devpost.com/'><u>PyTorch Hackathon\n",
    "    </u> </a> with the help of a <a href='https://mlatsjsu.club'>\n",
    "    <u>Machine Learning Club</u></a> at San Jose State University.''',\n",
    "\n",
    "    'github':'''This project is open-source and is covered by the MIT License,\n",
    "    for more details or if you want to contribure here is the\n",
    "    <a href='https://github.com/mdmittriy/AgingClock'><u>\n",
    "    GitHub repository</u></a>.''',\n",
    "\n",
    "    'demo':'''You can take a look at the demo of this project <a\n",
    "    href='https://www.youtube.com/watch?v=SCxRiXIG13Q'><u>here</u></a>. And\n",
    "    notice that this work is heavily inspired by\n",
    "    <a href='http://www.aging.ai'><u>aging.ai</u></a>'''}\n",
    "\n",
    "widgets.HTML(value='<center>{}<br>{}<br>{}<br>{}</center>'.format(\n",
    "    footer_html['gap'],footer_html['sjsu'],\n",
    "    footer_html['github'],footer_html['demo']))"
   ]
  }
 ],
 "metadata": {
  "kernelspec": {
   "display_name": "Python 3 (ipykernel)",
   "language": "python",
   "name": "python3"
  },
  "language_info": {
   "codemirror_mode": {
    "name": "ipython",
    "version": 3
   },
   "file_extension": ".py",
   "mimetype": "text/x-python",
   "name": "python",
   "nbconvert_exporter": "python",
   "pygments_lexer": "ipython3",
   "version": "3.8.2"
  }
 },
 "nbformat": 4,
 "nbformat_minor": 5
}
