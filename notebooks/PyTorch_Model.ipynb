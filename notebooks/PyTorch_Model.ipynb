{
 "cells": [
  {
   "cell_type": "code",
   "execution_count": 1,
   "id": "cd59bcab-31d2-4703-8da3-69de1891417b",
   "metadata": {},
   "outputs": [],
   "source": [
    "import torch\n",
    "import ageclock"
   ]
  },
  {
   "cell_type": "code",
   "execution_count": 2,
   "id": "1442af77-2674-4271-b82f-9074db267933",
   "metadata": {},
   "outputs": [],
   "source": [
    "adm = torch.optim.Adam"
   ]
  },
  {
   "cell_type": "code",
   "execution_count": 4,
   "id": "440a2552-1e85-4ea2-a86c-ce4a3b73fd94",
   "metadata": {
    "tags": []
   },
   "outputs": [
    {
     "name": "stdout",
     "output_type": "stream",
     "text": [
      "Linear -> LeakyReLU -> Dropout\n",
      "layers: [1000, 500, 250]\n",
      "ps: 0.35\n",
      "Optimizer: <class 'torch.optim.adam.Adam'>\n",
      "Learning rate: 0.001\n",
      "Epoch 1\n",
      "-------------------------------\n",
      "Train Error: \n",
      " Predictions in 5 range: 31.6%, Avg loss: 10.239753 \n",
      "\n",
      "Test Error: \n",
      " Predictions in 5 range: 31.9%, Avg loss: 10.173923 \n",
      "\n"
     ]
    }
   ],
   "source": [
    "model = ageclock.train_test(optimizer=adm, ps=0.35, epochs=1)"
   ]
  },
  {
   "cell_type": "code",
   "execution_count": 87,
   "id": "0686848a-2e10-4d3c-9b44-bc3117e63d3b",
   "metadata": {},
   "outputs": [],
   "source": [
    "#torch.save(model, MODEL_PATH/'adm_0.35_10_1000-500-250.pth')\n",
    "#torch.save(model.state_dict(), MODEL_PATH/'adm_state_dict')"
   ]
  }
 ],
 "metadata": {
  "kernelspec": {
   "display_name": "Python 3 (ipykernel)",
   "language": "python",
   "name": "python3"
  },
  "language_info": {
   "codemirror_mode": {
    "name": "ipython",
    "version": 3
   },
   "file_extension": ".py",
   "mimetype": "text/x-python",
   "name": "python",
   "nbconvert_exporter": "python",
   "pygments_lexer": "ipython3",
   "version": "3.8.2"
  }
 },
 "nbformat": 4,
 "nbformat_minor": 5
}
