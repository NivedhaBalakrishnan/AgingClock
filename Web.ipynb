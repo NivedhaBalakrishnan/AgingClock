{
 "cells": [
  {
   "cell_type": "code",
   "execution_count": 1,
   "id": "97255334",
   "metadata": {},
   "outputs": [],
   "source": [
    "warn_text=\"\"\"Age predictor needs all blood marker values and your Sex to make a prediction. If you are missing values and filling them in, this might have a dramatic impact on the results. However your entered Height, Weight, and Smoking Status are not required for estimating your biological age and only used for record keeping.\"\"\""
   ]
  },
  {
   "cell_type": "code",
   "execution_count": 2,
   "id": "85e42eeb",
   "metadata": {},
   "outputs": [],
   "source": [
    "import math\n",
    "import torch\n",
    "from torch import nn\n",
    "from torch import optim\n",
    "from torch.utils.data import Dataset\n",
    "from torch.utils.data import DataLoader\n",
    "from pathlib import Path\n",
    "import pandas as pd\n",
    "\n",
    "# In[3]:\n",
    "\n",
    "MODEL_PATH = Path.cwd()/'Models'\n",
    "device = torch.device(\"cuda:0\" if torch.cuda.is_available() else \"cpu\")"
   ]
  },
  {
   "cell_type": "code",
   "execution_count": 3,
   "id": "69727d95",
   "metadata": {},
   "outputs": [],
   "source": [
    "class CustomDataset(Dataset):\n",
    "    def __init__(self, df, transform=None, target_transform=None):\n",
    "        self.df = df\n",
    "        self.transform = transform\n",
    "        self.target_transform = target_transform\n",
    "\n",
    "    def __len__(self):\n",
    "        return len(self.df)\n",
    "\n",
    "    def __getitem__(self, idx):\n",
    "        x = self.df.drop(labels='AGE', axis=1).iloc[idx]\n",
    "        x = torch.from_numpy(x.values)\n",
    "        #returning y as a scalar might be a problem\n",
    "        y = self.df.iloc[idx].AGE\n",
    "        if self.transform:\n",
    "            x = self.transform(x)\n",
    "        if self.target_transform:\n",
    "            y = self.target_transform(y)\n",
    "        return x, y\n",
    "\n",
    "\n",
    "# In[5]:\n",
    "\n",
    "\n",
    "class NN(nn.Module):\n",
    "    def __init__(self, layers=[1000,500,250], ps=0.35, in_features=20, y_range=(20, 90)):\n",
    "        super(NN, self).__init__()\n",
    "        self.y_range = y_range\n",
    "        self.layers = layers\n",
    "        self.ps = ps\n",
    "        layers = [in_features] + layers\n",
    "        layers = list(zip(layers, layers[1:]))\n",
    "        \n",
    "        l = []\n",
    "        for layer in layers:\n",
    "            l.append(nn.Linear(*layer))\n",
    "            #TODO: play with negative slope koef. of LeakyReLU\n",
    "            l.append(nn.LeakyReLU())\n",
    "            l.append(nn.Dropout(ps))\n",
    "        l.append(nn.Linear(layers[-1][1], 1))\n",
    "\n",
    "        self.arch = nn.Sequential(*l)\n",
    "        \n",
    "    def forward(self, x):\n",
    "        x = self.arch(x)\n",
    "        x = (self.y_range[1]-self.y_range[0]) * torch.sigmoid(x) + self.y_range[0]\n",
    "        return x\n",
    "    \n",
    "    def __repr__(self):\n",
    "        return \"Linear -> LeakyReLU -> Dropout\\nlayers: {}\\nps: {}\\n\".format(self.layers, self.ps)"
   ]
  },
  {
   "cell_type": "code",
   "execution_count": 4,
   "id": "271f4e3d",
   "metadata": {},
   "outputs": [],
   "source": [
    "import ipywidgets as widgets\n",
    "from ipywidgets import Button, Layout\n",
    "from ipywidgets import GridspecLayout, Button, Layout, Dropdown, BoundedFloatText"
   ]
  },
  {
   "cell_type": "code",
   "execution_count": 5,
   "id": "fde9735b",
   "metadata": {},
   "outputs": [],
   "source": [
    "import torch\n",
    "from pathlib import Path"
   ]
  },
  {
   "cell_type": "code",
   "execution_count": 6,
   "id": "3b2db1ed",
   "metadata": {},
   "outputs": [],
   "source": [
    "#MALe = 1 \n",
    "#FEmale = 0\n",
    "#Like www.aging.ai Western Europe except for:\n",
    "#Albumine, Creatine urine isntead of blood\n",
    "\n",
    "#Albuming check but probably OK\n",
    "\n",
    "#Creatine just take the mean\n",
    "#Protein total/10 \n",
    "\n",
    "\n",
    "MALE40 = [\n",
    "    49.21,\n",
    "    5.28,\n",
    "    7.3,\n",
    "    7.04,\n",
    "    7,\n",
    "    143,\n",
    "    120,\n",
    "    16.5,\n",
    "    17.2,\n",
    "    1.35,\n",
    "    1.6,\n",
    "    4.83,\n",
    "    2.48,\n",
    "    4.7,\n",
    "    46.7,\n",
    "    35.4,\n",
    "    86.5,\n",
    "    177,\n",
    "    5.41\n",
    "]"
   ]
  },
  {
   "cell_type": "code",
   "execution_count": 7,
   "id": "cf43157d",
   "metadata": {},
   "outputs": [],
   "source": [
    "MALE69 = [\n",
    "    37,\n",
    "    5.16,\n",
    "    3.89,\n",
    "    4.73,\n",
    "    5.9,\n",
    "    140,\n",
    "    88.4,\n",
    "    14.4,\n",
    "    18.81,\n",
    "    1.11,\n",
    "    1.05,\n",
    "    3.13,\n",
    "    2.05,\n",
    "    4.4,\n",
    "    44.2,\n",
    "    32.6,\n",
    "    91,\n",
    "    188,\n",
    "    4.86\n",
    "]"
   ]
  },
  {
   "cell_type": "code",
   "execution_count": 8,
   "id": "f9130fbc",
   "metadata": {},
   "outputs": [],
   "source": [
    "MALE29 = [\n",
    "    47.64,\n",
    "    5.06,\n",
    "    6,\n",
    "    5.35,\n",
    "    8.2,\n",
    "    139,\n",
    "    72.7,\n",
    "    13.6,\n",
    "    10.9,\n",
    "    0.74,\n",
    "    1.38,\n",
    "    3.63,\n",
    "    2.62,\n",
    "    4.7,\n",
    "    40.8,\n",
    "    33.3,\n",
    "    73.2,\n",
    "    206,\n",
    "    5.57,\n",
    "]"
   ]
  },
  {
   "cell_type": "code",
   "execution_count": 9,
   "id": "83c11e81",
   "metadata": {},
   "outputs": [],
   "source": [
    "a=\"\"\"Albumin**                        [                    ] 35 - 52 g/l\n",
    "Glucose**                        [                    ] 3.9 - 5.8 mmole/l\n",
    "Urea**(BUN)                      [                    ] 2.5 - 6.4 mmole/l\n",
    "Cholesterol**                    [                    ] 3.37 - 5.96 mmole/l\n",
    "Protein total**                  [                    ] 64 - 83 g/l\n",
    "Sodium**                         [                    ] 136 - 146 mmole/l\n",
    "Creatinine**                     [                    ] 53 - 97 mmole/l\n",
    "Hemoglobin**                     [                    ] 11.7 - 15.5 g/dl\n",
    "Bilirubin total                  [                    ] 1.7 - 21 mcmole/l\n",
    "Triglycerides                    [                    ] 0.68 - 6 mmole/l\n",
    "HDL Cholesterol                  [                    ] < 3.3 mmole/l\n",
    "LDL cholesterol (by Friedewald)  [                    ] 1.81- 4.04 mmole/l\n",
    "Calcium                          [                    ] 2.15 - 2.65 mmole/l\n",
    "Potassium                        [                    ] 3.4 - 5.1 mmole/l\n",
    "Hematocrit                       [                    ] 37 - 50 %\n",
    "MCHC                             [                    ] 31.5 - 35.7 g/dL\n",
    "MCV                              [                    ] 82 - 95 fl\n",
    "Platelets                        [                    ] 150 - 450 10^3 /mcl\n",
    "Erythrocytes (RBC)               [                    ] 3.5 - 5.5 10^6 /mcl\"\"\""
   ]
  },
  {
   "cell_type": "code",
   "execution_count": 10,
   "id": "1ff7b962",
   "metadata": {},
   "outputs": [],
   "source": [
    "lines = a.splitlines()\n",
    "lines = [l.split('[') for l in lines]\n",
    "lines = [(b.strip(), m.strip()) for b, m in lines]"
   ]
  },
  {
   "cell_type": "code",
   "execution_count": 11,
   "id": "c41c1b67",
   "metadata": {},
   "outputs": [],
   "source": [
    "biomarkers = [l[0] for l in lines]"
   ]
  },
  {
   "cell_type": "code",
   "execution_count": 12,
   "id": "24bad371",
   "metadata": {},
   "outputs": [],
   "source": [
    "measures = [l[1][2:] for l in lines]\n",
    "measures[4] = '6.4 - 8.3 g/dl'"
   ]
  },
  {
   "cell_type": "code",
   "execution_count": 13,
   "id": "13ccd0b6",
   "metadata": {},
   "outputs": [],
   "source": [
    "biomarkers = [(i+2, biomarkers[i], measures[i]) for i in range(len(biomarkers))]"
   ]
  },
  {
   "cell_type": "code",
   "execution_count": 14,
   "id": "d6c8ce82",
   "metadata": {},
   "outputs": [],
   "source": [
    "#('hand written code', Path.cwd()/'Models'/'adm_state_dict', (Path.cwd()/'Models'/'adm_state_dict').exists())"
   ]
  },
  {
   "cell_type": "code",
   "execution_count": 15,
   "id": "822982ca",
   "metadata": {},
   "outputs": [],
   "source": [
    "def predict(biomarkers):\n",
    "    path = Path.cwd()/'Models'/'adm_state_dict'\n",
    "    lm = NN()\n",
    "    lm.load_state_dict(torch.load(path))\n",
    "    lm.eval()\n",
    "    biomarkers = torch.Tensor(biomarkers)\n",
    "    return(lm(biomarkers)-27)"
   ]
  },
  {
   "cell_type": "code",
   "execution_count": 16,
   "id": "2883d1a3",
   "metadata": {},
   "outputs": [],
   "source": [
    "from ipywidgets import *\n",
    "load_box = widgets.Dropdown(options=['-', 'Male 69 y/o', 'Male 40 y/o', 'Male 29 y/o'], description=\" \")\n",
    "sex_box = widgets.Dropdown(options=[\"-\", \"Male\", \"Female\"], description=\"Sex:\")\n",
    "smoke_box = widgets.Dropdown(options=[\"-\", \"No\", \"Yes\"], description=\"Smoke?\")\n",
    "\n",
    "def change_x(*args):\n",
    "    sex_box.index = None\n",
    "    sex_box.value = \"Male\"\n",
    "    \n",
    "    for i in range(len(MALE29)+1):\n",
    "        grid[i+2, 2].value = MALE29[i]\n",
    "        \n",
    "load_box.observe(change_x, 'value')"
   ]
  },
  {
   "cell_type": "code",
   "execution_count": 17,
   "id": "70f6f952",
   "metadata": {},
   "outputs": [],
   "source": [
    "load_box = widgets.Dropdown(\n",
    "    value='-',\n",
    "    options=['-', 'Male 69 y/o', 'Male 40 y/o', 'Male 29 y/o'],\n",
    "    description=\" \"\n",
    ")\n",
    "\n",
    "def example_change(change):\n",
    "    if change['type'] == 'change' and change['name'] == 'value':\n",
    "        if change['new'] == '-':\n",
    "            sex_box.index = None\n",
    "            sex_box.value = \"-\"\n",
    "            for i in range(len(MALE29)+1):\n",
    "                grid[i+2, 2].value = 0\n",
    "        elif change['new'] == 'Male 69 y/o':\n",
    "            sex_box.index = None\n",
    "            sex_box.value = \"Male\"\n",
    "            for i in range(len(MALE69)+1):\n",
    "                grid[i+2, 2].value = MALE69[i]\n",
    "        elif change['new'] == 'Male 40 y/o':\n",
    "            sex_box.index = None\n",
    "            sex_box.value = \"Male\"\n",
    "            for i in range(len(MALE40)+1):\n",
    "                grid[i+2, 2].value = MALE40[i]\n",
    "        elif change['new'] == 'Male 29 y/o':\n",
    "            sex_box.index = None\n",
    "            sex_box.value = \"Male\"\n",
    "            for i in range(len(MALE29)+1):\n",
    "                grid[i+2, 2].value = MALE29[i]\n",
    "            \n",
    "\n",
    "load_box.observe(example_change)"
   ]
  },
  {
   "cell_type": "code",
   "execution_count": 18,
   "id": "90021b07",
   "metadata": {},
   "outputs": [],
   "source": [
    "height_box = widgets.Text(\n",
    "    #value='',\n",
    "    placeholder='Enter your height (Optional)',\n",
    "    description='Height:',\n",
    "    #disabled=False\n",
    ")"
   ]
  },
  {
   "cell_type": "code",
   "execution_count": 19,
   "id": "76cecc46",
   "metadata": {},
   "outputs": [],
   "source": [
    "weight_box = widgets.Text(\n",
    "    #value='',\n",
    "    placeholder='Enter your weight (Optional)',\n",
    "    description='Weight:',\n",
    "    #disabled=False\n",
    ")"
   ]
  },
  {
   "cell_type": "code",
   "execution_count": 20,
   "id": "34795d79",
   "metadata": {},
   "outputs": [],
   "source": [
    "load_label = widgets.HTML(value = '<center><h3>Load an Example</h3></center>')\n",
    "load_box = VBox([load_label, load_box])"
   ]
  },
  {
   "cell_type": "code",
   "execution_count": 21,
   "id": "c115b536",
   "metadata": {},
   "outputs": [],
   "source": [
    "title = \"Deep Biomarkers Of Human Aging: How Old By a Basic Blood Test\"\n",
    "subtitle = \"This is a deep-learned predictor of your age made with a deep neural network trained on tens of thousands anonymized human blood tests. Enter your data below and the model will guess your age.\""
   ]
  },
  {
   "cell_type": "code",
   "execution_count": 22,
   "id": "5e2b2b6f",
   "metadata": {},
   "outputs": [
    {
     "data": {
      "application/vnd.jupyter.widget-view+json": {
       "model_id": "0787ad92e6014a75852ea9dad885250c",
       "version_major": 2,
       "version_minor": 0
      },
      "text/plain": [
       "GridspecLayout(children=(HTML(value='<center><h1 style=\"font-family:verdana\"><font color=\"paleturquoise\">Deep …"
      ]
     },
     "metadata": {},
     "output_type": "display_data"
    }
   ],
   "source": [
    "header_grid = widgets.GridspecLayout(4, 5, width='auto')\n",
    "\n",
    "warning = widgets.HTML(value = f\"<center><h4><font color='orange'>{warn_text}</h4></center>\")\n",
    "title = widgets.HTML(value = f'<center><h1 style=\"font-family:verdana\"><font color=\"paleturquoise\">{title}</h1><hr><h2 style=\"font-family:verdana\">{subtitle}</h2></center>')\n",
    "\n",
    "header_grid[0:1,1:-1]=title\n",
    "input_row = 2\n",
    "\n",
    "header_grid[input_row,1] = height_box\n",
    "header_grid[input_row,2] = weight_box\n",
    "header_grid[input_row:input_row+1,3] = load_box\n",
    "\n",
    "header_grid[input_row+1,2] = smoke_box\n",
    "header_grid[input_row+1,1] = sex_box\n",
    "\n",
    "header_grid"
   ]
  },
  {
   "cell_type": "code",
   "execution_count": 23,
   "id": "10bbac7a",
   "metadata": {},
   "outputs": [],
   "source": [
    "def submit_clicked(b):\n",
    "    grid[-1,2].button_style=\"primary\"\n",
    "    markers = [grid[i+2, 2].value for i in range(len(biomarkers))]\n",
    "    if sex_box.value=='-':\n",
    "        grid[-1,2].description=\"Please enter your Sex\"\n",
    "        grid[-1,2].button_style=\"warning\"\n",
    "    elif 0 in markers:\n",
    "        grid[-1,2].description=\"Please enter missing biomarkers\"\n",
    "        grid[-1,2].button_style=\"warning\"\n",
    "    else:\n",
    "        markers.insert(0, int(sex_box.value=='Male'))\n",
    "        grid[-1,2].description=f\"You are {round(predict(markers).data.item())} years old\"\n",
    "        grid[-1,2].tooltip=str(markers)"
   ]
  },
  {
   "cell_type": "code",
   "execution_count": 24,
   "id": "b5b4b42f",
   "metadata": {},
   "outputs": [],
   "source": [
    "asterics_text = [\"* This should be in your clinical biochemistry blood test results.\",\n",
    "                 \"** Required parameter for minimal prediction accuracy of 70% within 10 year frame.\",\n",
    "                 \"*** We can not show you reference values before knowing your age apriori, so this is only a reference metric.\"]\n",
    "\n",
    "asterics = widgets.HTML(value = f\"<p><font color='orange'>{asterics_text[0]}</p><p><font color='orange'>{asterics_text[1]}</p><p><font color='orange'>{asterics_text[2]}</h4>\")"
   ]
  },
  {
   "cell_type": "code",
   "execution_count": 25,
   "id": "dd77cb48",
   "metadata": {},
   "outputs": [
    {
     "data": {
      "application/vnd.jupyter.widget-view+json": {
       "model_id": "e8c6a101709f47daa7c46a96a5f5dd35",
       "version_major": 2,
       "version_minor": 0
      },
      "text/plain": [
       "GridspecLayout(children=(HTML(value=\"<center><h4><font color='orange'>Age predictor needs all blood marker val…"
      ]
     },
     "metadata": {},
     "output_type": "display_data"
    }
   ],
   "source": [
    "grid = widgets.GridspecLayout(len(biomarkers)+7, 5, height='1100px', width='auto')\n",
    "h = '28px'\n",
    "\n",
    "grid[0,1:-1] = warning\n",
    "\n",
    "for x in biomarkers:\n",
    "        grid[x[0], 1] = Button(description=x[1], tooltip=x[1], button_style=\"info\", disabled=True, layout=Layout(height=h, width='auto'))\n",
    "        grid[x[0], 3] = Button(description=x[2], tooltip=x[2], button_style=\"info\", disabled=True, layout=Layout(height=h, width='auto'))\n",
    "        \n",
    "        grid[x[0], 2] = BoundedFloatText(\n",
    "        min=0,\n",
    "        max=1000,\n",
    "        layout=Layout(width='auto', height=h),\n",
    "        value=None,\n",
    "        step=0.01,\n",
    "        #description=' ',\n",
    "        disabled=False\n",
    "    )\n",
    "        \n",
    "grid[1,1] = Button(description=\"Blood Marker*\", tooltip=\"Units and Sample Metric***\", button_style='primary', disabled=True, layout=Layout(height='auto', width='auto'))\n",
    "grid[1,2] = Button(description=\"Your Value\", tooltip=\"Your Value\", button_style=\"primary\", disabled=True, layout=Layout(height='40px', width='auto'))\n",
    "grid[1,3] = Button(description=\"Units and Sample Metric***\", tooltip=\"Units and Sample Metric***\", button_style=\"primary\", disabled=True, layout=Layout(height='auto', width='auto'))\n",
    "        \n",
    "grid[-5,1:] = asterics\n",
    "submit = Button(description=\"Submit\",tooltip=\"Predict your age with entered biomarkers\", button_style=\"primary\", layout=Layout(height='30px', width='auto'))\n",
    "age = Button(layout=Layout(height='30px', width='auto'))\n",
    "\n",
    "submit.on_click(submit_clicked)\n",
    "grid[-2,2] = submit\n",
    "grid[-1,2] = age\n",
    "\n",
    "grid"
   ]
  },
  {
   "cell_type": "code",
   "execution_count": 26,
   "id": "f07ea65f",
   "metadata": {},
   "outputs": [
    {
     "data": {
      "application/vnd.jupyter.widget-view+json": {
       "model_id": "77b33b357dad413cb53d13605fe59748",
       "version_major": 2,
       "version_minor": 0
      },
      "text/plain": [
       "HTML(value=\"<center><br><br><br><br><br><br><br><br><hr>Made by Dmytro Mishchenko as a project for a <a href='…"
      ]
     },
     "metadata": {},
     "output_type": "display_data"
    }
   ],
   "source": [
    "info = widgets.HTML(value = \"<center><br><br><br><br><br><br><br><br><hr>Made by Dmytro Mishchenko as a project for a <a href='https://mlatsjsu.club'>Machine Learning Club</a> at San Jose State University.<br>This project is open-source and is covered by the MIT License, for more details here is a <a href='https://github.com/mdmittriy/AgingClock'>link</a> to GitHub repository.<br>You can take a look at the demo of this project here.<center>\")\n",
    "info"
   ]
  }
 ],
 "metadata": {
  "kernelspec": {
   "display_name": "Python 3 (ipykernel)",
   "language": "python",
   "name": "python3"
  },
  "language_info": {
   "codemirror_mode": {
    "name": "ipython",
    "version": 3
   },
   "file_extension": ".py",
   "mimetype": "text/x-python",
   "name": "python",
   "nbconvert_exporter": "python",
   "pygments_lexer": "ipython3",
   "version": "3.8.2"
  }
 },
 "nbformat": 4,
 "nbformat_minor": 5
}
