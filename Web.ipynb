{
 "cells": [
  {
   "cell_type": "code",
   "execution_count": 1,
   "id": "8332b21c",
   "metadata": {},
   "outputs": [],
   "source": [
    "import ipywidgets as widgets\n",
    "from ipywidgets import Button, Layout\n",
    "from ipywidgets import GridspecLayout, Button, Layout, Dropdown, BoundedFloatText"
   ]
  },
  {
   "cell_type": "code",
   "execution_count": 2,
   "id": "a810b05b",
   "metadata": {},
   "outputs": [],
   "source": [
    "import torch\n",
    "import ageclock\n",
    "from pathlib import Path"
   ]
  },
  {
   "cell_type": "code",
   "execution_count": 3,
   "id": "ad0c26cc",
   "metadata": {},
   "outputs": [],
   "source": [
    "def predict(biomarkers):\n",
    "    MODEL_PATH_LIST = [x for x in (Path.cwd()/'Models').iterdir() if x.is_file()]\n",
    "    lm = ageclock.NN()\n",
    "    lm.load_state_dict(torch.load(MODEL_PATH_LIST[-2]))\n",
    "    lm.eval()\n",
    "    biomarkers = torch.Tensor(biomarkers)\n",
    "    return(lm(biomarkers))"
   ]
  },
  {
   "cell_type": "code",
   "execution_count": 4,
   "id": "9b8427ec",
   "metadata": {},
   "outputs": [
    {
     "data": {
      "application/vnd.jupyter.widget-view+json": {
       "model_id": "690594ddd54a4585a73abcbe0a9fe1da",
       "version_major": 2,
       "version_minor": 0
      },
      "text/plain": [
       "HBox(children=(Dropdown(description='Load an example', options=('a', 'b'), value='a'), Dropdown(description='S…"
      ]
     },
     "metadata": {},
     "output_type": "display_data"
    }
   ],
   "source": [
    "from ipywidgets import *\n",
    "x = widgets.Dropdown(options=['a', 'b'], description=\"Load an example\")\n",
    "y = widgets.Dropdown(options=[\"Male\", \"Female\"], description=\"Sex:\")\n",
    "\n",
    "def change_x(*args):\n",
    "    y.index = None\n",
    "    y.value = \"Female\"\n",
    "    \n",
    "    for i in range(len(MALE40)+1):\n",
    "        grid[i+1, 2].value = MALE40[i]\n",
    "        \n",
    "x.observe(change_x, 'value')\n",
    "HBox([x,y])"
   ]
  },
  {
   "cell_type": "code",
   "execution_count": 5,
   "id": "ff7fa894",
   "metadata": {},
   "outputs": [],
   "source": [
    "def submit_clicked(b):\n",
    "    markers = [grid[i+1, 2].value for i in range(len(biomarkers))]\n",
    "    markers.insert(0, int(y.value=='Male'))\n",
    "    with output:\n",
    "        print(f\"You are {round(predict(markers).data.item())} years old.\")\n",
    "        \n",
    "#MALe = 1 \n",
    "#FEmale = 0\n",
    "#Like www.aging.ai Western Europe except for:\n",
    "#Albumine, Creatine urine isntead of blood\n",
    "#Protein total/10 \n",
    "\n",
    "MALE40 = [\n",
    "    49.21,\n",
    "    5.28,\n",
    "    7.3,\n",
    "    7.04,\n",
    "    7,\n",
    "    143,\n",
    "    120,\n",
    "    16.5,\n",
    "    17.2,\n",
    "    1.35,\n",
    "    1.6,\n",
    "    4.83,\n",
    "    2.48,\n",
    "    4.7,\n",
    "    46.7,\n",
    "    35.4,\n",
    "    86.5,\n",
    "    177,\n",
    "    5.41\n",
    "]"
   ]
  },
  {
   "cell_type": "code",
   "execution_count": 6,
   "id": "41c5f141",
   "metadata": {},
   "outputs": [],
   "source": [
    "biomarkers = [\n",
    "    \"Albumin_mgl\",\n",
    "    \"Glucose_mmolL\",\n",
    "    \"Urea_mmolL\",\n",
    "    \"Cholesterol_mmolL\",\n",
    "    \"Protein_gdL\",\n",
    "    \"Sodium_mmolL\",\n",
    "    \"Creatinine_mgdl\",\n",
    "    \"Hemoglobin_gdl\",\n",
    "    \"Bilirubin_umolL\",\n",
    "    \"Triglyceride_mmolL\",\n",
    "    \"HDL_mmolL\",\n",
    "    \"LDL_mmolL\",\n",
    "    \"Calcium_mmolL\",\n",
    "    \"Potassium_mmolL\",\n",
    "    \"Hematocrit_%\",\n",
    "    \"MCHC_gdl\",\n",
    "    \"MCV_fL\",\n",
    "    \"Platelet_TuL\",\n",
    "    \"RBC_MuL\"]"
   ]
  },
  {
   "cell_type": "code",
   "execution_count": 7,
   "id": "574b819e",
   "metadata": {},
   "outputs": [],
   "source": [
    "biomarkers = [(i+1, biomarkers[i].split('_')[0], biomarkers[i].split('_')[1]) for i in range(len(biomarkers))]"
   ]
  },
  {
   "cell_type": "code",
   "execution_count": 8,
   "id": "f1b606b9",
   "metadata": {},
   "outputs": [
    {
     "data": {
      "application/vnd.jupyter.widget-view+json": {
       "model_id": "82f68e3c23eb40e09b65db64bfefaffe",
       "version_major": 2,
       "version_minor": 0
      },
      "text/plain": [
       "GridspecLayout(children=(Button(button_style='info', description='Albumin', disabled=True, layout=Layout(grid_…"
      ]
     },
     "metadata": {},
     "output_type": "display_data"
    }
   ],
   "source": [
    "from ipywidgets import GridspecLayout\n",
    "\n",
    "grid = widgets.GridspecLayout(len(biomarkers)+2, 5, height='800px', width='auto')\n",
    "h = '28px'\n",
    "for x in biomarkers:\n",
    "        grid[x[0], 1] = Button(description=x[1], tooltip=x[1], button_style=\"info\", disabled=True, layout=Layout(height=h, width='auto'))\n",
    "        grid[x[0], 3] = Button(description=x[2], tooltip=x[2], button_style=\"info\", disabled=True, layout=Layout(height=h, width='auto'))\n",
    "        \n",
    "        grid[x[0], 2] = BoundedFloatText(\n",
    "        min=0,\n",
    "        max=1000,\n",
    "        layout=Layout(width='auto', height=h),\n",
    "        value=None,\n",
    "        step=0.001,\n",
    "        #description=' ',\n",
    "        disabled=False\n",
    "    )\n",
    "        \n",
    "grid[0,1] = Button(description=\"Blood Marker*\", tooltip=\"Units and Sample Metric***\", button_style='primary', disabled=True, layout=Layout(height='auto', width='auto'))\n",
    "grid[0,2] = Button(description=\"Your Value\", tooltip=\"Your Value\", button_style=\"primary\", disabled=True, layout=Layout(height='auto', width='auto'))\n",
    "grid[0,3] = Button(description=\"Units and Sample Metric***\", tooltip=\"Units and Sample Metric***\", button_style=\"primary\", disabled=True, layout=Layout(height='auto', width='auto'))\n",
    "        \n",
    "grid"
   ]
  },
  {
   "cell_type": "code",
   "execution_count": 9,
   "id": "d735d70a",
   "metadata": {},
   "outputs": [
    {
     "data": {
      "application/vnd.jupyter.widget-view+json": {
       "model_id": "58af293bf2674360b8d28c67f7421f75",
       "version_major": 2,
       "version_minor": 0
      },
      "text/plain": [
       "Button(description='Submit', style=ButtonStyle())"
      ]
     },
     "metadata": {},
     "output_type": "display_data"
    },
    {
     "data": {
      "application/vnd.jupyter.widget-view+json": {
       "model_id": "712736c8931c4d41be247c2911c6d1f5",
       "version_major": 2,
       "version_minor": 0
      },
      "text/plain": [
       "Output()"
      ]
     },
     "metadata": {},
     "output_type": "display_data"
    }
   ],
   "source": [
    "button = widgets.Button(description=\"Submit\")\n",
    "button.on_click(submit_clicked)\n",
    "output = widgets.Output()\n",
    "display(button, output)"
   ]
  }
 ],
 "metadata": {
  "kernelspec": {
   "display_name": "Python 3 (ipykernel)",
   "language": "python",
   "name": "python3"
  },
  "language_info": {
   "codemirror_mode": {
    "name": "ipython",
    "version": 3
   },
   "file_extension": ".py",
   "mimetype": "text/x-python",
   "name": "python",
   "nbconvert_exporter": "python",
   "pygments_lexer": "ipython3",
   "version": "3.8.2"
  }
 },
 "nbformat": 4,
 "nbformat_minor": 5
}
