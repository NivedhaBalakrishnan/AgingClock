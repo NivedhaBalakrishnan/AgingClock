{
 "cells": [
  {
   "cell_type": "markdown",
   "id": "9e551479",
   "metadata": {},
   "source": [
    "## Deep Biomarkers Of Human Aging"
   ]
  },
  {
   "cell_type": "markdown",
   "id": "f12bed40",
   "metadata": {},
   "source": [
    "#### How old by basic blood test"
   ]
  },
  {
   "cell_type": "markdown",
   "id": "38c03f38",
   "metadata": {},
   "source": [
    "Age predictor needs all blood marker values to make a prediction. If you are missing values and filling them in, this might have a dramatic impact on the results. For example, male samples can be classified as females and vice versa. Neural network looks on the net totality of blood parameters, but not individual markers. "
   ]
  },
  {
   "cell_type": "code",
   "execution_count": 1,
   "id": "20aa2683",
   "metadata": {
    "jupyter": {
     "source_hidden": true
    }
   },
   "outputs": [],
   "source": [
    "import math\n",
    "import torch\n",
    "from torch import nn\n",
    "from torch import optim\n",
    "from torch.utils.data import Dataset\n",
    "from torch.utils.data import DataLoader\n",
    "from pathlib import Path\n",
    "import pandas as pd\n",
    "\n",
    "# In[3]:\n",
    "\n",
    "MODEL_PATH = Path.cwd()/'Models'\n",
    "device = torch.device(\"cuda:0\" if torch.cuda.is_available() else \"cpu\")"
   ]
  },
  {
   "cell_type": "code",
   "execution_count": 2,
   "id": "b2ea4242",
   "metadata": {
    "jupyter": {
     "source_hidden": true
    }
   },
   "outputs": [],
   "source": [
    "class CustomDataset(Dataset):\n",
    "    def __init__(self, df, transform=None, target_transform=None):\n",
    "        self.df = df\n",
    "        self.transform = transform\n",
    "        self.target_transform = target_transform\n",
    "\n",
    "    def __len__(self):\n",
    "        return len(self.df)\n",
    "\n",
    "    def __getitem__(self, idx):\n",
    "        x = self.df.drop(labels='AGE', axis=1).iloc[idx]\n",
    "        x = torch.from_numpy(x.values)\n",
    "        #returning y as a scalar might be a problem\n",
    "        y = self.df.iloc[idx].AGE\n",
    "        if self.transform:\n",
    "            x = self.transform(x)\n",
    "        if self.target_transform:\n",
    "            y = self.target_transform(y)\n",
    "        return x, y\n",
    "\n",
    "\n",
    "# In[5]:\n",
    "\n",
    "\n",
    "class NN(nn.Module):\n",
    "    def __init__(self, layers=[1000,500,250], ps=0.35, in_features=20, y_range=(20, 90)):\n",
    "        super(NN, self).__init__()\n",
    "        self.y_range = y_range\n",
    "        self.layers = layers\n",
    "        self.ps = ps\n",
    "        layers = [in_features] + layers\n",
    "        layers = list(zip(layers, layers[1:]))\n",
    "        \n",
    "        l = []\n",
    "        for layer in layers:\n",
    "            l.append(nn.Linear(*layer))\n",
    "            #TODO: play with negative slope koef. of LeakyReLU\n",
    "            l.append(nn.LeakyReLU())\n",
    "            l.append(nn.Dropout(ps))\n",
    "        l.append(nn.Linear(layers[-1][1], 1))\n",
    "\n",
    "        self.arch = nn.Sequential(*l)\n",
    "        \n",
    "    def forward(self, x):\n",
    "        x = self.arch(x)\n",
    "        x = (self.y_range[1]-self.y_range[0]) * torch.sigmoid(x) + self.y_range[0]\n",
    "        return x\n",
    "    \n",
    "    def __repr__(self):\n",
    "        return \"Linear -> LeakyReLU -> Dropout\\nlayers: {}\\nps: {}\\n\".format(self.layers, self.ps)"
   ]
  },
  {
   "cell_type": "code",
   "execution_count": 3,
   "id": "b03c3965",
   "metadata": {
    "jupyter": {
     "source_hidden": true
    }
   },
   "outputs": [],
   "source": [
    "import ipywidgets as widgets\n",
    "from ipywidgets import Button, Layout\n",
    "from ipywidgets import GridspecLayout, Button, Layout, Dropdown, BoundedFloatText"
   ]
  },
  {
   "cell_type": "code",
   "execution_count": 4,
   "id": "086ad909",
   "metadata": {
    "jupyter": {
     "source_hidden": true
    }
   },
   "outputs": [],
   "source": [
    "import torch\n",
    "from pathlib import Path"
   ]
  },
  {
   "cell_type": "code",
   "execution_count": 5,
   "id": "8e16d79f",
   "metadata": {
    "jupyter": {
     "source_hidden": true
    }
   },
   "outputs": [],
   "source": [
    "#MALe = 1 \n",
    "#FEmale = 0\n",
    "#Like www.aging.ai Western Europe except for:\n",
    "#Albumine, Creatine urine isntead of blood\n",
    "\n",
    "#Albuming check but probably OK\n",
    "\n",
    "#Creatine just take the mean\n",
    "#Protein total/10 \n",
    "\n",
    "\n",
    "MALE40 = [\n",
    "    49.21,\n",
    "    5.28,\n",
    "    7.3,\n",
    "    7.04,\n",
    "    7,\n",
    "    143,\n",
    "    120,\n",
    "    16.5,\n",
    "    17.2,\n",
    "    1.35,\n",
    "    1.6,\n",
    "    4.83,\n",
    "    2.48,\n",
    "    4.7,\n",
    "    46.7,\n",
    "    35.4,\n",
    "    86.5,\n",
    "    177,\n",
    "    5.41\n",
    "]"
   ]
  },
  {
   "cell_type": "code",
   "execution_count": 6,
   "id": "73b42b1b",
   "metadata": {
    "jupyter": {
     "source_hidden": true
    }
   },
   "outputs": [],
   "source": [
    "MALE69 = [\n",
    "    37,\n",
    "    5.16,\n",
    "    3.89,\n",
    "    4.73,\n",
    "    5.9,\n",
    "    140,\n",
    "    88.4,\n",
    "    14.4,\n",
    "    18.81,\n",
    "    1.11,\n",
    "    1.05,\n",
    "    3.13,\n",
    "    2.05,\n",
    "    4.4,\n",
    "    44.2,\n",
    "    32.6,\n",
    "    91,\n",
    "    188,\n",
    "    4.86\n",
    "]"
   ]
  },
  {
   "cell_type": "code",
   "execution_count": 7,
   "id": "ba7588f7",
   "metadata": {
    "jupyter": {
     "source_hidden": true
    }
   },
   "outputs": [],
   "source": [
    "MALE29 = [\n",
    "    47.64,\n",
    "    5.06,\n",
    "    6,\n",
    "    5.35,\n",
    "    8.2,\n",
    "    139,\n",
    "    72.7,\n",
    "    13.6,\n",
    "    10.9,\n",
    "    0.74,\n",
    "    1.38,\n",
    "    3.63,\n",
    "    2.62,\n",
    "    4.7,\n",
    "    40.8,\n",
    "    33.3,\n",
    "    73.2,\n",
    "    206,\n",
    "    5.57,\n",
    "]"
   ]
  },
  {
   "cell_type": "code",
   "execution_count": 8,
   "id": "bd95bd84",
   "metadata": {
    "jupyter": {
     "source_hidden": true
    }
   },
   "outputs": [],
   "source": [
    "a=\"\"\"Albumin**                        [                    ] 35 - 52 g/l\n",
    "Glucose**                        [                    ] 3.9 - 5.8 mmole/l\n",
    "Urea**(BUN)                      [                    ] 2.5 - 6.4 mmole/l\n",
    "Cholesterol**                    [                    ] 3.37 - 5.96 mmole/l\n",
    "Protein total**                  [                    ] 64 - 83 g/l\n",
    "Sodium**                         [                    ] 136 - 146 mmole/l\n",
    "Creatinine**                     [                    ] 53 - 97 mmole/l\n",
    "Hemoglobin**                     [                    ] 11.7 - 15.5 g/dl\n",
    "Bilirubin total                  [                    ] 1.7 - 21 mcmole/l\n",
    "Triglycerides                    [                    ] 0.68 - 6 mmole/l\n",
    "HDL Cholesterol                  [                    ] < 3.3 mmole/l\n",
    "LDL cholesterol (by Friedewald)  [                    ] 1.81- 4.04 mmole/l\n",
    "Calcium                          [                    ] 2.15 - 2.65 mmole/l\n",
    "Potassium                        [                    ] 3.4 - 5.1 mmole/l\n",
    "Hematocrit                       [                    ] 37 - 50 %\n",
    "MCHC                             [                    ] 31.5 - 35.7 g/dL\n",
    "MCV                              [                    ] 82 - 95 fl\n",
    "Platelets                        [                    ] 150 - 450 10^3 /mcl\n",
    "Erythrocytes (RBC)               [                    ] 3.5 - 5.5 10^6 /mcl\"\"\""
   ]
  },
  {
   "cell_type": "code",
   "execution_count": 9,
   "id": "f68d1dd0",
   "metadata": {
    "jupyter": {
     "source_hidden": true
    }
   },
   "outputs": [],
   "source": [
    "lines = a.splitlines()\n",
    "lines = [l.split('[') for l in lines]\n",
    "lines = [(b.strip(), m.strip()) for b, m in lines]"
   ]
  },
  {
   "cell_type": "code",
   "execution_count": 10,
   "id": "d5f168e2",
   "metadata": {
    "jupyter": {
     "source_hidden": true
    }
   },
   "outputs": [],
   "source": [
    "biomarkers = [l[0] for l in lines]"
   ]
  },
  {
   "cell_type": "code",
   "execution_count": 11,
   "id": "d0d09cfb",
   "metadata": {
    "jupyter": {
     "source_hidden": true
    }
   },
   "outputs": [],
   "source": [
    "measures = [l[1][2:] for l in lines]\n",
    "measures[4] = '6.4 - 8.3 g/dl'"
   ]
  },
  {
   "cell_type": "code",
   "execution_count": 12,
   "id": "7fbf80a1",
   "metadata": {
    "jupyter": {
     "source_hidden": true
    }
   },
   "outputs": [],
   "source": [
    "biomarkers = [(i+1, biomarkers[i], measures[i]) for i in range(len(biomarkers))]"
   ]
  },
  {
   "cell_type": "code",
   "execution_count": 13,
   "id": "c4970398",
   "metadata": {
    "jupyter": {
     "source_hidden": true
    }
   },
   "outputs": [],
   "source": [
    "#('hand written code', Path.cwd()/'Models'/'adm_state_dict', (Path.cwd()/'Models'/'adm_state_dict').exists())"
   ]
  },
  {
   "cell_type": "code",
   "execution_count": 14,
   "id": "5c9d09c8",
   "metadata": {},
   "outputs": [],
   "source": [
    "def predict(biomarkers):\n",
    "    path = Path.cwd()/'Models'/'adm_state_dict'\n",
    "    lm = NN()\n",
    "    lm.load_state_dict(torch.load(path))\n",
    "    lm.eval()\n",
    "    biomarkers = torch.Tensor(biomarkers)\n",
    "    return(lm(biomarkers))"
   ]
  },
  {
   "cell_type": "code",
   "execution_count": 15,
   "id": "b96efd02",
   "metadata": {},
   "outputs": [
    {
     "data": {
      "application/vnd.jupyter.widget-view+json": {
       "model_id": "ce72548b0acb41379faec4268430e99b",
       "version_major": 2,
       "version_minor": 0
      },
      "text/plain": [
       "HBox(children=(Dropdown(description='Load an example', options=('a', 'b'), value='a'), Dropdown(description='S…"
      ]
     },
     "metadata": {},
     "output_type": "display_data"
    }
   ],
   "source": [
    "from ipywidgets import *\n",
    "x = widgets.Dropdown(options=['a', 'b'], description=\"Load an example\")\n",
    "y = widgets.Dropdown(options=[\"Male\", \"Female\"], description=\"Sex:\")\n",
    "\n",
    "def change_x(*args):\n",
    "    y.index = None\n",
    "    y.value = \"Male\"\n",
    "    \n",
    "    for i in range(len(MALE29)+1):\n",
    "        grid[i+1, 2].value = MALE29[i]\n",
    "        \n",
    "x.observe(change_x, 'value')\n",
    "HBox([x,y])"
   ]
  },
  {
   "cell_type": "code",
   "execution_count": 16,
   "id": "8eb1931b",
   "metadata": {},
   "outputs": [],
   "source": [
    "def submit_clicked(b):\n",
    "    markers = [grid[i+1, 2].value for i in range(len(biomarkers))]\n",
    "    markers.insert(0, int(y.value=='Male'))\n",
    "    with output:\n",
    "        print(f\"You are {round(predict(markers).data.item())} years old.\")\n",
    "        "
   ]
  },
  {
   "cell_type": "code",
   "execution_count": 17,
   "id": "9a73099c",
   "metadata": {},
   "outputs": [
    {
     "data": {
      "application/vnd.jupyter.widget-view+json": {
       "model_id": "b9512c194b4b4f879a3dcb4f77098334",
       "version_major": 2,
       "version_minor": 0
      },
      "text/plain": [
       "GridspecLayout(children=(Button(button_style='info', description='Albumin**', disabled=True, layout=Layout(gri…"
      ]
     },
     "metadata": {},
     "output_type": "display_data"
    }
   ],
   "source": [
    "from ipywidgets import GridspecLayout\n",
    "\n",
    "grid = widgets.GridspecLayout(len(biomarkers)+2, 5, height='800px', width='auto')\n",
    "h = '28px'\n",
    "for x in biomarkers:\n",
    "        grid[x[0], 1] = Button(description=x[1], tooltip=x[1], button_style=\"info\", disabled=True, layout=Layout(height=h, width='auto'))\n",
    "        grid[x[0], 3] = Button(description=x[2], tooltip=x[2], button_style=\"info\", disabled=True, layout=Layout(height=h, width='auto'))\n",
    "        \n",
    "        grid[x[0], 2] = BoundedFloatText(\n",
    "        min=0,\n",
    "        max=1000,\n",
    "        layout=Layout(width='auto', height=h),\n",
    "        value=None,\n",
    "        step=0.001,\n",
    "        #description=' ',\n",
    "        disabled=False\n",
    "    )\n",
    "        \n",
    "grid[0,1] = Button(description=\"Blood Marker*\", tooltip=\"Units and Sample Metric***\", button_style='primary', disabled=True, layout=Layout(height='auto', width='auto'))\n",
    "grid[0,2] = Button(description=\"Your Value\", tooltip=\"Your Value\", button_style=\"primary\", disabled=True, layout=Layout(height='auto', width='auto'))\n",
    "grid[0,3] = Button(description=\"Units and Sample Metric***\", tooltip=\"Units and Sample Metric***\", button_style=\"primary\", disabled=True, layout=Layout(height='auto', width='auto'))\n",
    "        \n",
    "grid"
   ]
  },
  {
   "cell_type": "code",
   "execution_count": 18,
   "id": "8b2acb9e",
   "metadata": {},
   "outputs": [
    {
     "data": {
      "application/vnd.jupyter.widget-view+json": {
       "model_id": "2ca340050ab9409fba46ead73e60fc27",
       "version_major": 2,
       "version_minor": 0
      },
      "text/plain": [
       "Button(description='Submit', style=ButtonStyle())"
      ]
     },
     "metadata": {},
     "output_type": "display_data"
    },
    {
     "data": {
      "application/vnd.jupyter.widget-view+json": {
       "model_id": "6434ee94935a43de87f81639f22a3383",
       "version_major": 2,
       "version_minor": 0
      },
      "text/plain": [
       "Output()"
      ]
     },
     "metadata": {},
     "output_type": "display_data"
    }
   ],
   "source": [
    "button = widgets.Button(description=\"Submit\")\n",
    "button.on_click(submit_clicked)\n",
    "output = widgets.Output()\n",
    "display(button, output)"
   ]
  },
  {
   "cell_type": "markdown",
   "id": "3a0d1781",
   "metadata": {},
   "source": [
    "\\* This should be in your clinical biochemistry blood test results  \n",
    "\\** Required parameter for minimal prediction accuracy of 70% within 10 year frame  \n",
    "\\*** We can not show you reference values before knowing your age apriori, so this is only a reference metric  \n",
    "\n",
    "Click on a marker to know more about what it is. Knowing your blood biochemistry markers is the new ABCs. Everyone should know it.   "
   ]
  },
  {
   "cell_type": "markdown",
   "id": "e8ad8059",
   "metadata": {},
   "source": [
    "This is a deep-learned predictor of your age made with a deep neural network trained on hundreds of thousands anonymized human blood tests. Enter your data below and Aging.ai will guess your age.\n",
    "\n",
    "Please use the following citation when referencing Aging.AI 3.0: Polina Mamoshina, Kirill Kochetov, Evgeny Putin, Franco Cortese, Alexander Aliper, Won-Suk Lee, Sung-Min Ahn, Lee Uhn, Neil Skjodt, Olga Kovalchuk, Morten Scheibye-Knudsen, Alex Zhavoronkov; Population specific biomarkers of human aging: a big data study using South Korean, Canadian and Eastern European patient populations, The Journals of Gerontology: Series A, gly005, https://doi.org/10.1093/gerona/gly005"
   ]
  },
  {
   "cell_type": "markdown",
   "id": "fa1a31ce",
   "metadata": {},
   "source": [
    "Made by Dmytro Mishchenko as a project for a Machine Learning Club at San Jose State University.    \n",
    "https://mlatsjsu.club  \n",
    "This project is open-source and is covered by the MIT License, for more details follow the GitHub link below.  \n",
    "https://github.com/mdmittriy/AgingClock  "
   ]
  }
 ],
 "metadata": {
  "kernelspec": {
   "display_name": "Python 3 (ipykernel)",
   "language": "python",
   "name": "python3"
  },
  "language_info": {
   "codemirror_mode": {
    "name": "ipython",
    "version": 3
   },
   "file_extension": ".py",
   "mimetype": "text/x-python",
   "name": "python",
   "nbconvert_exporter": "python",
   "pygments_lexer": "ipython3",
   "version": "3.8.2"
  }
 },
 "nbformat": 4,
 "nbformat_minor": 5
}
