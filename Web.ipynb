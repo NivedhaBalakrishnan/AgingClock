{
 "cells": [
  {
   "cell_type": "code",
   "execution_count": 1,
   "id": "e1311781",
   "metadata": {},
   "outputs": [],
   "source": [
    "import math\n",
    "import torch\n",
    "from torch import nn\n",
    "from torch import optim\n",
    "from torch.utils.data import Dataset\n",
    "from torch.utils.data import DataLoader\n",
    "from pathlib import Path\n",
    "import pandas as pd\n",
    "\n",
    "# In[3]:\n",
    "\n",
    "MODEL_PATH = Path.cwd()/'Models'\n",
    "device = torch.device(\"cuda:0\" if torch.cuda.is_available() else \"cpu\")"
   ]
  },
  {
   "cell_type": "code",
   "execution_count": 2,
   "id": "e6b3d5ae",
   "metadata": {},
   "outputs": [],
   "source": [
    "class CustomDataset(Dataset):\n",
    "    def __init__(self, df, transform=None, target_transform=None):\n",
    "        self.df = df\n",
    "        self.transform = transform\n",
    "        self.target_transform = target_transform\n",
    "\n",
    "    def __len__(self):\n",
    "        return len(self.df)\n",
    "\n",
    "    def __getitem__(self, idx):\n",
    "        x = self.df.drop(labels='AGE', axis=1).iloc[idx]\n",
    "        x = torch.from_numpy(x.values)\n",
    "        #returning y as a scalar might be a problem\n",
    "        y = self.df.iloc[idx].AGE\n",
    "        if self.transform:\n",
    "            x = self.transform(x)\n",
    "        if self.target_transform:\n",
    "            y = self.target_transform(y)\n",
    "        return x, y\n",
    "\n",
    "\n",
    "# In[5]:\n",
    "\n",
    "\n",
    "class NN(nn.Module):\n",
    "    def __init__(self, layers=[1000,500,250], ps=0.35, in_features=20, y_range=(20, 90)):\n",
    "        super(NN, self).__init__()\n",
    "        self.y_range = y_range\n",
    "        self.layers = layers\n",
    "        self.ps = ps\n",
    "        layers = [in_features] + layers\n",
    "        layers = list(zip(layers, layers[1:]))\n",
    "        \n",
    "        l = []\n",
    "        for layer in layers:\n",
    "            l.append(nn.Linear(*layer))\n",
    "            #TODO: play with negative slope koef. of LeakyReLU\n",
    "            l.append(nn.LeakyReLU())\n",
    "            l.append(nn.Dropout(ps))\n",
    "        l.append(nn.Linear(layers[-1][1], 1))\n",
    "\n",
    "        self.arch = nn.Sequential(*l)\n",
    "        \n",
    "    def forward(self, x):\n",
    "        x = self.arch(x)\n",
    "        x = (self.y_range[1]-self.y_range[0]) * torch.sigmoid(x) + self.y_range[0]\n",
    "        return x\n",
    "    \n",
    "    def __repr__(self):\n",
    "        return \"Linear -> LeakyReLU -> Dropout\\nlayers: {}\\nps: {}\\n\".format(self.layers, self.ps)"
   ]
  },
  {
   "cell_type": "markdown",
   "id": "6e7b0cff",
   "metadata": {},
   "source": [
    "##### COPY FROM AGECLOCK MODULE^^^^"
   ]
  },
  {
   "cell_type": "code",
   "execution_count": 3,
   "id": "0a4850b0",
   "metadata": {},
   "outputs": [],
   "source": [
    "import ipywidgets as widgets\n",
    "from ipywidgets import Button, Layout\n",
    "from ipywidgets import GridspecLayout, Button, Layout, Dropdown, BoundedFloatText"
   ]
  },
  {
   "cell_type": "code",
   "execution_count": 4,
   "id": "a0f82f41",
   "metadata": {},
   "outputs": [],
   "source": [
    "import torch\n",
    "from pathlib import Path"
   ]
  },
  {
   "cell_type": "code",
   "execution_count": 5,
   "id": "be3410f5",
   "metadata": {},
   "outputs": [],
   "source": [
    "def predict(biomarkers):\n",
    "    path = Path.cwd()/'Models'/'adm_state_dict'\n",
    "    lm = NN()\n",
    "    lm.load_state_dict(torch.load(path))\n",
    "    lm.eval()\n",
    "    biomarkers = torch.Tensor(biomarkers)\n",
    "    return(lm(biomarkers))"
   ]
  },
  {
   "cell_type": "code",
   "execution_count": 12,
   "id": "4950346e",
   "metadata": {},
   "outputs": [
    {
     "data": {
      "text/plain": [
       "15"
      ]
     },
     "execution_count": 12,
     "metadata": {},
     "output_type": "execute_result"
    }
   ],
   "source": [
    "Path.cwd()/'Models'"
   ]
  },
  {
   "cell_type": "code",
   "execution_count": null,
   "id": "c0239fa0",
   "metadata": {},
   "outputs": [],
   "source": [
    "('second index of the model path list var', [x for x in (Path.cwd()/'Models').iterdir() if x.is_file()][-2])"
   ]
  },
  {
   "cell_type": "code",
   "execution_count": null,
   "id": "c90870aa",
   "metadata": {},
   "outputs": [],
   "source": [
    "('hand written code', Path.cwd()/'Models'/'adm_state_dict', (Path.cwd()/'Models'/'adm_state_dict').exists())"
   ]
  },
  {
   "cell_type": "code",
   "execution_count": 6,
   "id": "fa566f53",
   "metadata": {},
   "outputs": [
    {
     "data": {
      "application/vnd.jupyter.widget-view+json": {
       "model_id": "6dc856217d8c4f0ca0d0588858aaa9ad",
       "version_major": 2,
       "version_minor": 0
      },
      "text/plain": [
       "HBox(children=(Dropdown(description='Load an example', options=('a', 'b'), value='a'), Dropdown(description='S…"
      ]
     },
     "metadata": {},
     "output_type": "display_data"
    }
   ],
   "source": [
    "from ipywidgets import *\n",
    "x = widgets.Dropdown(options=['a', 'b'], description=\"Load an example\")\n",
    "y = widgets.Dropdown(options=[\"Male\", \"Female\"], description=\"Sex:\")\n",
    "\n",
    "def change_x(*args):\n",
    "    y.index = None\n",
    "    y.value = \"Female\"\n",
    "    \n",
    "    for i in range(len(MALE40)+1):\n",
    "        grid[i+1, 2].value = MALE40[i]\n",
    "        \n",
    "x.observe(change_x, 'value')\n",
    "HBox([x,y])"
   ]
  },
  {
   "cell_type": "code",
   "execution_count": 7,
   "id": "efe1851b",
   "metadata": {},
   "outputs": [],
   "source": [
    "def submit_clicked(b):\n",
    "    markers = [grid[i+1, 2].value for i in range(len(biomarkers))]\n",
    "    markers.insert(0, int(y.value=='Male'))\n",
    "    with output:\n",
    "        print(f\"You are {round(predict(markers).data.item())} years old.\")\n",
    "        \n",
    "#MALe = 1 \n",
    "#FEmale = 0\n",
    "#Like www.aging.ai Western Europe except for:\n",
    "#Albumine, Creatine urine isntead of blood\n",
    "#Protein total/10 \n",
    "\n",
    "MALE40 = [\n",
    "    49.21,\n",
    "    5.28,\n",
    "    7.3,\n",
    "    7.04,\n",
    "    7,\n",
    "    143,\n",
    "    120,\n",
    "    16.5,\n",
    "    17.2,\n",
    "    1.35,\n",
    "    1.6,\n",
    "    4.83,\n",
    "    2.48,\n",
    "    4.7,\n",
    "    46.7,\n",
    "    35.4,\n",
    "    86.5,\n",
    "    177,\n",
    "    5.41\n",
    "]"
   ]
  },
  {
   "cell_type": "code",
   "execution_count": 8,
   "id": "85ba89b2",
   "metadata": {},
   "outputs": [],
   "source": [
    "biomarkers = [\n",
    "    \"Albumin_mgl\",\n",
    "    \"Glucose_mmolL\",\n",
    "    \"Urea_mmolL\",\n",
    "    \"Cholesterol_mmolL\",\n",
    "    \"Protein_gdL\",\n",
    "    \"Sodium_mmolL\",\n",
    "    \"Creatinine_mgdl\",\n",
    "    \"Hemoglobin_gdl\",\n",
    "    \"Bilirubin_umolL\",\n",
    "    \"Triglyceride_mmolL\",\n",
    "    \"HDL_mmolL\",\n",
    "    \"LDL_mmolL\",\n",
    "    \"Calcium_mmolL\",\n",
    "    \"Potassium_mmolL\",\n",
    "    \"Hematocrit_%\",\n",
    "    \"MCHC_gdl\",\n",
    "    \"MCV_fL\",\n",
    "    \"Platelet_TuL\",\n",
    "    \"RBC_MuL\"]"
   ]
  },
  {
   "cell_type": "code",
   "execution_count": 9,
   "id": "2d450277",
   "metadata": {},
   "outputs": [],
   "source": [
    "biomarkers = [(i+1, biomarkers[i].split('_')[0], biomarkers[i].split('_')[1]) for i in range(len(biomarkers))]"
   ]
  },
  {
   "cell_type": "code",
   "execution_count": 10,
   "id": "ec078b35",
   "metadata": {},
   "outputs": [
    {
     "data": {
      "application/vnd.jupyter.widget-view+json": {
       "model_id": "648c3f6ac4b14adc9877e65bd3e0f94e",
       "version_major": 2,
       "version_minor": 0
      },
      "text/plain": [
       "GridspecLayout(children=(Button(button_style='info', description='Albumin', disabled=True, layout=Layout(grid_…"
      ]
     },
     "metadata": {},
     "output_type": "display_data"
    }
   ],
   "source": [
    "from ipywidgets import GridspecLayout\n",
    "\n",
    "grid = widgets.GridspecLayout(len(biomarkers)+2, 5, height='800px', width='auto')\n",
    "h = '28px'\n",
    "for x in biomarkers:\n",
    "        grid[x[0], 1] = Button(description=x[1], tooltip=x[1], button_style=\"info\", disabled=True, layout=Layout(height=h, width='auto'))\n",
    "        grid[x[0], 3] = Button(description=x[2], tooltip=x[2], button_style=\"info\", disabled=True, layout=Layout(height=h, width='auto'))\n",
    "        \n",
    "        grid[x[0], 2] = BoundedFloatText(\n",
    "        min=0,\n",
    "        max=1000,\n",
    "        layout=Layout(width='auto', height=h),\n",
    "        value=None,\n",
    "        step=0.001,\n",
    "        #description=' ',\n",
    "        disabled=False\n",
    "    )\n",
    "        \n",
    "grid[0,1] = Button(description=\"Blood Marker*\", tooltip=\"Units and Sample Metric***\", button_style='primary', disabled=True, layout=Layout(height='auto', width='auto'))\n",
    "grid[0,2] = Button(description=\"Your Value\", tooltip=\"Your Value\", button_style=\"primary\", disabled=True, layout=Layout(height='auto', width='auto'))\n",
    "grid[0,3] = Button(description=\"Units and Sample Metric***\", tooltip=\"Units and Sample Metric***\", button_style=\"primary\", disabled=True, layout=Layout(height='auto', width='auto'))\n",
    "        \n",
    "grid"
   ]
  },
  {
   "cell_type": "code",
   "execution_count": 11,
   "id": "ce1e4a61",
   "metadata": {},
   "outputs": [
    {
     "data": {
      "application/vnd.jupyter.widget-view+json": {
       "model_id": "4a2fcfd729ed47548d90a7961defd9e5",
       "version_major": 2,
       "version_minor": 0
      },
      "text/plain": [
       "Button(description='Submit', style=ButtonStyle())"
      ]
     },
     "metadata": {},
     "output_type": "display_data"
    },
    {
     "data": {
      "application/vnd.jupyter.widget-view+json": {
       "model_id": "b514c07e8a344c049edbc0fb46a56a87",
       "version_major": 2,
       "version_minor": 0
      },
      "text/plain": [
       "Output()"
      ]
     },
     "metadata": {},
     "output_type": "display_data"
    }
   ],
   "source": [
    "button = widgets.Button(description=\"Submit\")\n",
    "button.on_click(submit_clicked)\n",
    "output = widgets.Output()\n",
    "display(button, output)"
   ]
  }
 ],
 "metadata": {
  "kernelspec": {
   "display_name": "Python 3 (ipykernel)",
   "language": "python",
   "name": "python3"
  },
  "language_info": {
   "codemirror_mode": {
    "name": "ipython",
    "version": 3
   },
   "file_extension": ".py",
   "mimetype": "text/x-python",
   "name": "python",
   "nbconvert_exporter": "python",
   "pygments_lexer": "ipython3",
   "version": "3.8.2"
  }
 },
 "nbformat": 4,
 "nbformat_minor": 5
}
