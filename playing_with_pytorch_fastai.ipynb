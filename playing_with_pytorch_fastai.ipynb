{
 "cells": [
  {
   "cell_type": "raw",
   "id": "bce1c007-f36e-4e3e-8180-0e3b21d28485",
   "metadata": {},
   "source": [
    "from pandas.api.types import is_string_dtype, is_numeric_dtype, is_categorical_dtype\n",
    "from sklearn.ensemble import RandomForestRegressor\n",
    "from sklearn.tree import DecisionTreeRegressor\n",
    "from dtreeviz.trees import *\n",
    "from IPython.display import Image, display_svg, SVG\n",
    "\n",
    "pd.options.display.max_rows = 20\n",
    "pd.options.display.max_columns = 8"
   ]
  },
  {
   "cell_type": "raw",
   "id": "89c73e08-ab18-42ee-8f2d-f94dbe47263c",
   "metadata": {},
   "source": [
    "def _sigmoid_range(x, low, high):\n",
    "    return torch.sigmoid(x) * (high - low) + low"
   ]
  },
  {
   "cell_type": "raw",
   "id": "422c823f-b282-491c-87bc-e906b37d4e1b",
   "metadata": {},
   "source": [
    "class myModule(torch.nn.Module):\n",
    "    @staticmethod\n",
    "    def _create_params(*size):\n",
    "        return torch.nn.Parameter(torch.zeros(size).normal_(0, 0.01))\n",
    "    \n",
    "    def __init__(self, n_users, n_movies, n_factors):\n",
    "        super().__init__()\n",
    "        self.user_factors = self._create_params(n_users, n_factors)\n",
    "        self.user_bias = self._create_params(n_users, 1)\n",
    "        self.movie_factors = self._create_params(n_movies, n_factors)\n",
    "        self.movie_bias = self._create_params(n_movies, 1)\n",
    "    \n",
    "    def forward(self, x):\n",
    "        \"\"\"x is a matrix with first column = indecies of users, second of items| we return vector of y hats\"\"\"\n",
    "        users = self.user_factors[x[:,0]]\n",
    "        movies = self.movie_factors[x[:,1]]\n",
    "        pred = (users * movies).sum(dim=1, keepdim=True)\n",
    "        pred += self.user_bias[x[:,0]] + movie_bias[x[:,1]]\n",
    "        return _sigmoid_range(pred, 0, 5.5)\n",
    "        "
   ]
  },
  {
   "cell_type": "raw",
   "id": "249d180c-0ab8-4d5d-be7e-d6e404327e39",
   "metadata": {
    "tags": []
   },
   "source": [
    "class CollabNN(torch.nn.Module):\n",
    "    def __init__(self, user_size, item_size, n_act=100, y_range=(0,5.5)):\n",
    "        super().__init__()\n",
    "        self.user_factors = torch.nn.Embedding(*user_size)\n",
    "        self.item_factors = torch.nn.Embedding(*item_size)\n",
    "        self.layers = torch.nn.Sequential(\n",
    "            torch.nn.Linear(user_size[1]+item_size[1], n_act),\n",
    "            torch.nn.ReLU(),\n",
    "            torch.nn.Linear(n_act, 1),\n",
    "        )\n",
    "        self.y_range = y_range\n",
    "        \n",
    "    def forward(self, x):\n",
    "        embs = self.user_factors(x[:,0]), self.item_factors(x[:,1])\n",
    "        x = self.layers(torch.cat(embs, dim=1))\n",
    "        return _sigmoid_range(x, *self.y_range)"
   ]
  },
  {
   "cell_type": "code",
   "execution_count": 1,
   "id": "30b248d4-1469-416b-a9f6-58a7de271697",
   "metadata": {},
   "outputs": [],
   "source": [
    "import torch\n",
    "import torch.nn as nn\n",
    "import torch.nn.functional as F\n",
    "import pandas as pd\n",
    "from pathlib import Path\n",
    "\n",
    "from sklearn.model_selection import StratifiedShuffleSplit\n",
    "from sklearn.preprocessing import StandardScaler\n",
    "from sklearn.pipeline import Pipeline\n",
    "from sklearn.ensemble import RandomForestRegressor\n",
    "from sklearn.compose import ColumnTransformer\n",
    "from sklearn.preprocessing import OrdinalEncoder\n",
    "from sklearn.tree import DecisionTreeRegressor\n",
    "from sklearn.inspection import plot_partial_dependence\n",
    "from sklearn.tree import export_graphviz"
   ]
  },
  {
   "cell_type": "code",
   "execution_count": 2,
   "id": "17b9096e-ac6b-4add-b7ff-12e925a61d84",
   "metadata": {},
   "outputs": [],
   "source": [
    "import fastbook\n",
    "from fastbook import *\n",
    "from fastai.tabular.all import *"
   ]
  },
  {
   "cell_type": "code",
   "execution_count": 3,
   "id": "e888a34e-5623-4af2-ad87-9f73aad8061d",
   "metadata": {},
   "outputs": [],
   "source": [
    "def cont_cat_split(df, max_card=20, dep_var=None):\n",
    "    \"Helper function that returns column names of cont and cat variables from given `df`.\"\n",
    "    cont_names, cat_names = [], []\n",
    "    for column in df:\n",
    "        if column in dep_var: continue\n",
    "        if ((pd.api.types.is_integer_dtype(df[column].dtype) and\n",
    "            df[column].unique().shape[0] > max_card) or\n",
    "            pd.api.types.is_float_dtype(df[column].dtype)):\n",
    "            cont_names.append(column)\n",
    "        else: cat_names.append(column)\n",
    "    return cont_names, cat_names"
   ]
  },
  {
   "cell_type": "code",
   "execution_count": 4,
   "id": "2ff3fec4-8ad4-42c7-999b-d454e160f191",
   "metadata": {},
   "outputs": [],
   "source": [
    "DATA_PATH = Path.cwd()/'Data'\n",
    "RAND_STATE = 0"
   ]
  },
  {
   "cell_type": "code",
   "execution_count": 5,
   "id": "5101a71e-4be9-4395-9751-c0f35deffc59",
   "metadata": {
    "tags": []
   },
   "outputs": [],
   "source": [
    "df = pd.read_csv(DATA_PATH/'Final_data.csv', low_memory=False)"
   ]
  },
  {
   "cell_type": "markdown",
   "id": "f10fb08e-df4c-471f-9abe-767e739ba6fd",
   "metadata": {},
   "source": [
    "#### Splitting"
   ]
  },
  {
   "cell_type": "code",
   "execution_count": 6,
   "id": "18d4f25b-2f6b-4576-957a-d5eb350f4570",
   "metadata": {},
   "outputs": [],
   "source": [
    "#Adding categorical age column for proportional/stratified train/test split\n",
    "AGE_GROUP_AMOUNT = 8\n",
    "df['AGE_GROUP'] = pd.cut(df['AGE'], bins=AGE_GROUP_AMOUNT,\n",
    "                              labels=range(AGE_GROUP_AMOUNT))\n",
    "\n",
    "#Making train test split with proportional age groups\n",
    "ss_split = StratifiedShuffleSplit(n_splits=1, test_size=0.1,\n",
    "                             random_state=RAND_STATE)\n",
    "\n",
    "train_idx, valid_idx = next(ss_split.split(df, df['AGE_GROUP']))\n",
    "splits = (list(train_idx),list(valid_idx))"
   ]
  },
  {
   "cell_type": "code",
   "execution_count": 7,
   "id": "479f4dd4-1acf-4e98-9705-db37f199563a",
   "metadata": {},
   "outputs": [],
   "source": [
    "df['AGE'] = df[\"AGE\"].astype(np.float32)"
   ]
  },
  {
   "cell_type": "code",
   "execution_count": 8,
   "id": "0094afe2-c982-495b-9807-96ad3029c5da",
   "metadata": {},
   "outputs": [],
   "source": [
    "df.drop(labels=[\"AGE_GROUP\", \"SEQN\"], axis=1, inplace=True, errors=\"ignore\")"
   ]
  },
  {
   "cell_type": "code",
   "execution_count": 9,
   "id": "81f3df8c-bae8-41ce-a4c0-0cd9a642a926",
   "metadata": {},
   "outputs": [],
   "source": [
    "dep_var = 'AGE'"
   ]
  },
  {
   "cell_type": "code",
   "execution_count": 10,
   "id": "e245b288-64ef-4bca-97ad-79a2081d4893",
   "metadata": {},
   "outputs": [],
   "source": [
    "cont,cat = cont_cat_split(df, 1, dep_var=dep_var)"
   ]
  },
  {
   "cell_type": "code",
   "execution_count": 11,
   "id": "21804615-2b39-465b-bc98-966494d20686",
   "metadata": {},
   "outputs": [],
   "source": [
    "procs = [Categorify, Normalize]"
   ]
  },
  {
   "cell_type": "code",
   "execution_count": 12,
   "id": "98b55cdb-b270-4e3c-b628-c1babedbcfd3",
   "metadata": {},
   "outputs": [],
   "source": [
    "to = TabularPandas(df, procs, cat, cont, y_names=dep_var, splits=splits)"
   ]
  },
  {
   "cell_type": "code",
   "execution_count": 21,
   "id": "aadb1150-a417-4154-b0b5-ccc03703b3bb",
   "metadata": {},
   "outputs": [
    {
     "data": {
      "text/plain": [
       "fastai.tabular.core.TabularPandas"
      ]
     },
     "execution_count": 21,
     "metadata": {},
     "output_type": "execute_result"
    }
   ],
   "source": [
    "TabularPandas"
   ]
  },
  {
   "cell_type": "code",
   "execution_count": 23,
   "id": "fc44ee01-2d76-4ba2-b36d-f07445fb00ff",
   "metadata": {},
   "outputs": [
    {
     "data": {
      "text/plain": [
       "False"
      ]
     },
     "execution_count": 23,
     "metadata": {},
     "output_type": "execute_result"
    }
   ],
   "source": [
    "torch.cuda.is_available()"
   ]
  },
  {
   "cell_type": "code",
   "execution_count": 42,
   "id": "18c7ebf4-b5ec-403b-890e-26d6a8c0f43d",
   "metadata": {},
   "outputs": [],
   "source": [
    "size = 3,4"
   ]
  },
  {
   "cell_type": "code",
   "execution_count": 54,
   "id": "4475f431-2a9d-404e-ba80-cd0150b228b5",
   "metadata": {},
   "outputs": [
    {
     "data": {
      "text/plain": [
       "torch.Size([2, 5, 5])"
      ]
     },
     "execution_count": 54,
     "metadata": {},
     "output_type": "execute_result"
    }
   ],
   "source": [
    "a.shape"
   ]
  },
  {
   "cell_type": "code",
   "execution_count": 55,
   "id": "1faefa0f-2baf-4a96-990f-8b9c27a6c459",
   "metadata": {},
   "outputs": [],
   "source": [
    "a = torch.randint(10, (2, 4, 5))"
   ]
  },
  {
   "cell_type": "code",
   "execution_count": 57,
   "id": "bead00da-c3ed-46a5-a3de-3b3aac556d3c",
   "metadata": {},
   "outputs": [
    {
     "data": {
      "text/plain": [
       "tensor([[[9, 4, 4, 6, 6],\n",
       "         [2, 4, 3, 0, 7],\n",
       "         [2, 5, 4, 9, 9],\n",
       "         [9, 2, 2, 2, 9]],\n",
       "\n",
       "        [[1, 3, 4, 2, 3],\n",
       "         [2, 0, 2, 4, 1],\n",
       "         [4, 2, 7, 9, 2],\n",
       "         [0, 8, 0, 3, 5]]])"
      ]
     },
     "execution_count": 57,
     "metadata": {},
     "output_type": "execute_result"
    }
   ],
   "source": [
    "a"
   ]
  },
  {
   "cell_type": "code",
   "execution_count": 71,
   "id": "e3f0e98d-a8fc-45bc-a7e1-e968d2efda49",
   "metadata": {},
   "outputs": [],
   "source": [
    "ab = torch.randint(10, (2,)).sum()"
   ]
  },
  {
   "cell_type": "code",
   "execution_count": 58,
   "id": "76533aef-fe39-4764-986c-f14567104946",
   "metadata": {},
   "outputs": [
    {
     "data": {
      "text/plain": [
       "tensor([[4, 4, 5, 2],\n",
       "        [3, 0, 2, 8]])"
      ]
     },
     "execution_count": 58,
     "metadata": {},
     "output_type": "execute_result"
    }
   ],
   "source": [
    "a[..., 1]"
   ]
  },
  {
   "cell_type": "code",
   "execution_count": null,
   "id": "e2b8056c-6a86-4d82-8835-87cf74b23e76",
   "metadata": {},
   "outputs": [],
   "source": []
  },
  {
   "cell_type": "code",
   "execution_count": 13,
   "id": "f8f21ed5-520a-40a4-9a7a-dd7defb17760",
   "metadata": {},
   "outputs": [],
   "source": [
    "dls = to.dataloaders(512)"
   ]
  },
  {
   "cell_type": "code",
   "execution_count": null,
   "id": "666f2120-ac86-4f7b-81eb-8d084f2d551c",
   "metadata": {},
   "outputs": [],
   "source": []
  },
  {
   "cell_type": "code",
   "execution_count": 14,
   "id": "52e4bba7-cc47-4f55-b9d4-f5b2d6cc127e",
   "metadata": {},
   "outputs": [],
   "source": [
    "learn = tabular_learner(dls, y_range=(20, 90), n_out=1, loss_func=F.mse_loss)"
   ]
  },
  {
   "cell_type": "code",
   "execution_count": 15,
   "id": "25ba21be-ac14-46c4-a3b6-39777657c7a5",
   "metadata": {
    "tags": []
   },
   "outputs": [
    {
     "data": {
      "text/html": [],
      "text/plain": [
       "<IPython.core.display.HTML object>"
      ]
     },
     "metadata": {},
     "output_type": "display_data"
    },
    {
     "name": "stderr",
     "output_type": "stream",
     "text": [
      "/home/ja/miniconda3/envs/fastAI/lib/python3.8/site-packages/fastai/callback/schedule.py:269: UserWarning: color is redundantly defined by the 'color' keyword argument and the fmt string \"ro\" (-> color='r'). The keyword argument will take precedence.\n",
      "  ax.plot(val, idx, 'ro', label=nm, c=color)\n"
     ]
    },
    {
     "data": {
      "text/plain": [
       "SuggestedLRs(valley=0.0010000000474974513)"
      ]
     },
     "execution_count": 15,
     "metadata": {},
     "output_type": "execute_result"
    },
    {
     "data": {
      "image/png": "[encoded data removed]",
      "text/plain": [
       "<Figure size 432x288 with 1 Axes>"
      ]
     },
     "metadata": {
      "needs_background": "light"
     },
     "output_type": "display_data"
    }
   ],
   "source": [
    "learn.lr_find()"
   ]
  },
  {
   "cell_type": "code",
   "execution_count": 16,
   "id": "e07e9d59-f318-4520-82ad-f37124bb9196",
   "metadata": {
    "tags": []
   },
   "outputs": [
    {
     "data": {
      "text/html": [
       "<table border=\"1\" class=\"dataframe\">\n",
       "  <thead>\n",
       "    <tr style=\"text-align: left;\">\n",
       "      <th>epoch</th>\n",
       "      <th>train_loss</th>\n",
       "      <th>valid_loss</th>\n",
       "      <th>time</th>\n",
       "    </tr>\n",
       "  </thead>\n",
       "  <tbody>\n",
       "    <tr>\n",
       "      <td>0</td>\n",
       "      <td>200.499649</td>\n",
       "      <td>171.836548</td>\n",
       "      <td>00:00</td>\n",
       "    </tr>\n",
       "    <tr>\n",
       "      <td>1</td>\n",
       "      <td>177.127945</td>\n",
       "      <td>165.418060</td>\n",
       "      <td>00:00</td>\n",
       "    </tr>\n",
       "    <tr>\n",
       "      <td>2</td>\n",
       "      <td>167.930725</td>\n",
       "      <td>156.774643</td>\n",
       "      <td>00:00</td>\n",
       "    </tr>\n",
       "    <tr>\n",
       "      <td>3</td>\n",
       "      <td>161.170914</td>\n",
       "      <td>155.626572</td>\n",
       "      <td>00:00</td>\n",
       "    </tr>\n",
       "    <tr>\n",
       "      <td>4</td>\n",
       "      <td>155.629379</td>\n",
       "      <td>154.790924</td>\n",
       "      <td>00:00</td>\n",
       "    </tr>\n",
       "    <tr>\n",
       "      <td>5</td>\n",
       "      <td>150.321106</td>\n",
       "      <td>152.099701</td>\n",
       "      <td>00:00</td>\n",
       "    </tr>\n",
       "    <tr>\n",
       "      <td>6</td>\n",
       "      <td>145.096436</td>\n",
       "      <td>150.618027</td>\n",
       "      <td>00:00</td>\n",
       "    </tr>\n",
       "  </tbody>\n",
       "</table>"
      ],
      "text/plain": [
       "<IPython.core.display.HTML object>"
      ]
     },
     "metadata": {},
     "output_type": "display_data"
    }
   ],
   "source": [
    "learn.fit_one_cycle(7, 2e-2)"
   ]
  },
  {
   "cell_type": "code",
   "execution_count": 17,
   "id": "ec73dac6-1a75-4e5c-840f-474049086ae6",
   "metadata": {},
   "outputs": [
    {
     "data": {
      "text/html": [],
      "text/plain": [
       "<IPython.core.display.HTML object>"
      ]
     },
     "metadata": {},
     "output_type": "display_data"
    }
   ],
   "source": [
    "preds,targs = learn.get_preds()"
   ]
  },
  {
   "cell_type": "code",
   "execution_count": 18,
   "id": "06371a28-0885-4b55-ba56-9ed74661fe24",
   "metadata": {},
   "outputs": [],
   "source": [
    "def r_mse(pred,y): return round(math.sqrt(((pred-y)**2).mean()), 6)\n",
    "def m_rmse(m, xs, y): return r_mse(m.predict(xs), y)\n",
    "def mae(pred, y): return abs(pred - y).mean()"
   ]
  },
  {
   "cell_type": "code",
   "execution_count": 19,
   "id": "d034ec0e-cf91-44fd-b756-40bac0f39143",
   "metadata": {
    "tags": []
   },
   "outputs": [
    {
     "data": {
      "text/plain": [
       "12.272654"
      ]
     },
     "execution_count": 19,
     "metadata": {},
     "output_type": "execute_result"
    }
   ],
   "source": [
    "r_mse(preds,targs)"
   ]
  },
  {
   "cell_type": "code",
   "execution_count": 20,
   "id": "049b797c-0ec7-406d-bd35-6e4e163fbcf2",
   "metadata": {},
   "outputs": [
    {
     "data": {
      "text/plain": [
       "tensor(9.6678)"
      ]
     },
     "execution_count": 20,
     "metadata": {},
     "output_type": "execute_result"
    }
   ],
   "source": [
    "mae(preds, targs)"
   ]
  }
 ],
 "metadata": {
  "kernelspec": {
   "display_name": "Python 3 (ipykernel)",
   "language": "python",
   "name": "python3"
  },
  "language_info": {
   "codemirror_mode": {
    "name": "ipython",
    "version": 3
   },
   "file_extension": ".py",
   "mimetype": "text/x-python",
   "name": "python",
   "nbconvert_exporter": "python",
   "pygments_lexer": "ipython3",
   "version": "3.8.2"
  },
  "toc-autonumbering": false,
  "toc-showcode": false,
  "toc-showmarkdowntxt": false
 },
 "nbformat": 4,
 "nbformat_minor": 5
}
