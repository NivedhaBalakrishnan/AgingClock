{
 "cells": [
  {
   "cell_type": "code",
   "execution_count": 1,
   "id": "4be1bef8-d7d3-4441-953a-c28009838c3f",
   "metadata": {},
   "outputs": [],
   "source": [
    "import torch"
   ]
  },
  {
   "cell_type": "code",
   "execution_count": 2,
   "id": "897e60f9-0107-4f8d-a74a-8b56686fbc86",
   "metadata": {},
   "outputs": [],
   "source": [
    "class myModule(torch.nn.Module):\n",
    "    @staticmethod\n",
    "    def _sigmoid_range(x, low, high):\n",
    "        return torch.sigmoid(x) * (high - low) + low\n",
    "    \n",
    "    @staticmethod\n",
    "    def _create_params(*size):\n",
    "        return torch.nn.Parameter(torch.zeros(size).normal_(0, 0.01))\n",
    "    \n",
    "    def __init__(self, n_users, n_movies, n_factors):\n",
    "        super().__init__()\n",
    "        self.user_factors = self._create_params(n_users, n_factors)\n",
    "        self.user_bias = self._create_params(n_users, 1)\n",
    "        self.movie_factors = self._create_params(n_movies, n_factors)\n",
    "        self.movie_bias = self._create_params(n_movies, 1)\n",
    "    \n",
    "    def forward(self, x):\n",
    "        \"\"\"x is a matrix with first column = indecies of users, second of movies| we return vector of y hats\"\"\"\n",
    "        users = self.user_factors[x[:,0]]\n",
    "        movies = self.movie_factors[x[:,1]]\n",
    "        pred = (users * movies).sum(dim=1, keepdim=True)\n",
    "        pred += self.user_bias[x[:,0]] + movie_bias[x[:,1]]\n",
    "        return __class__._sigmoid_range(pred, 0, 5.5)\n",
    "        "
   ]
  },
  {
   "cell_type": "code",
   "execution_count": 3,
   "id": "fdc932b1-4982-4332-b449-3185ac2e824f",
   "metadata": {
    "tags": []
   },
   "outputs": [],
   "source": [
    "class CollabNN(torch.nn.Module):\n",
    "    def __init__(self, user_size, item_size, n_act=100, y_range=(0,5.5)):\n",
    "        super().__init__()\n",
    "        self.user_factors = torch.nn.Embedding(*user_size)\n",
    "        self.item_factors = torch.nn.Embedding(*item_size)\n",
    "        self.layers = torch.nn.Sequential(\n",
    "            torch.nn.Linear(user_size[1]+item_size[1], n_act),\n",
    "            torch.nn.ReLU(),\n",
    "            torch.nn.Linear(n_act, 1),\n",
    "        )\n",
    "        self.y_range = y_range\n",
    "        \n",
    "    @staticmethod\n",
    "    def _sigmoid_range(x, low, high):\n",
    "        return torch.sigmoid(x) * (high - low) + low\n",
    "        \n",
    "    def forward(self, x):\n",
    "        embs = self.user_factors(x[:,0]), self.item_factors(x[:,1])\n",
    "        x = self.layers(torch.cat(embs, dim=1))\n",
    "        return self._sigmoid_range(x, *self.y_range)"
   ]
  },
  {
   "cell_type": "code",
   "execution_count": null,
   "id": "6ddb19d1-0ef0-41d5-88de-c00512eb312c",
   "metadata": {},
   "outputs": [],
   "source": []
  }
 ],
 "metadata": {
  "kernelspec": {
   "display_name": "Python 3 (ipykernel)",
   "language": "python",
   "name": "python3"
  },
  "language_info": {
   "codemirror_mode": {
    "name": "ipython",
    "version": 3
   },
   "file_extension": ".py",
   "mimetype": "text/x-python",
   "name": "python",
   "nbconvert_exporter": "python",
   "pygments_lexer": "ipython3",
   "version": "3.8.2"
  }
 },
 "nbformat": 4,
 "nbformat_minor": 5
}
