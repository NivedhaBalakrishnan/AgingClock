{
 "cells": [
  {
   "cell_type": "code",
   "execution_count": 1,
   "id": "09cc48cf-5c21-478f-a773-2f4dcb0b0784",
   "metadata": {},
   "outputs": [],
   "source": [
    "import pandas as pd\n",
    "from pathlib import Path\n",
    "import numpy as np\n",
    "\n",
    "from sklearn.model_selection import StratifiedShuffleSplit\n",
    "from sklearn.pipeline import Pipeline\n",
    "from sklearn.compose import ColumnTransformer\n",
    "from sklearn.preprocessing import OrdinalEncoder\n",
    "from sklearn.preprocessing import StandardScaler"
   ]
  },
  {
   "cell_type": "code",
   "execution_count": 2,
   "id": "7dea2840-3f46-44aa-83e2-6fc0787f9ae3",
   "metadata": {},
   "outputs": [],
   "source": [
    "DATA_PATH = Path.cwd()/'Data'"
   ]
  },
  {
   "cell_type": "code",
   "execution_count": 3,
   "id": "79659cb5-edfa-4ed5-92bc-48c9320945c9",
   "metadata": {},
   "outputs": [],
   "source": [
    "RAND_STATE = 0"
   ]
  },
  {
   "cell_type": "code",
   "execution_count": 4,
   "id": "37110bb7-11ac-4938-af69-288a40ef1f1b",
   "metadata": {
    "tags": []
   },
   "outputs": [],
   "source": [
    "full_df = pd.read_csv(DATA_PATH/'Final_data.csv', low_memory=False)\n",
    "full_df.drop(labels='AlkPhos_UL', inplace=True, axis=1, errors='ignore')"
   ]
  },
  {
   "cell_type": "code",
   "execution_count": 5,
   "id": "2ef19deb-fdf7-4eed-a8a9-9acd93a94556",
   "metadata": {},
   "outputs": [],
   "source": [
    "#Adding categorical age column for proportional/stratified train/test split\n",
    "AGE_GROUP_AMOUNT = 8\n",
    "full_df['AGE_GROUP'] = pd.cut(full_df['AGE'], bins=AGE_GROUP_AMOUNT,\n",
    "                              labels=range(AGE_GROUP_AMOUNT))\n",
    "\n",
    "#Making train test split with proportional age groups\n",
    "split = StratifiedShuffleSplit(n_splits=1, test_size=0.1,\n",
    "                               random_state=RAND_STATE)\n",
    "for train_index, test_index in split.split(full_df, full_df['AGE_GROUP']):\n",
    "    strat_train_set = full_df.iloc[train_index]\n",
    "    strat_test_set = full_df.iloc[test_index]"
   ]
  },
  {
   "cell_type": "code",
   "execution_count": 6,
   "id": "a63baf50-ab80-4897-8604-4a0c7eda44ff",
   "metadata": {
    "tags": []
   },
   "outputs": [],
   "source": [
    "full_transform = ColumnTransformer([\n",
    "    ('encoder', OrdinalEncoder(), ['GENDER']),\n",
    "    ('drop', 'drop', ['SEQN', 'AGE_GROUP']),\n",
    "    ('scaler', StandardScaler(), list(strat_train_set.columns)[2:-2]),\n",
    "    ('passthrough', 'passthrough', [\"AGE\"]),\n",
    "])\n",
    "\n",
    "trans_train = full_transform.fit_transform(strat_train_set)"
   ]
  },
  {
   "cell_type": "code",
   "execution_count": 7,
   "id": "9e11aa79-b329-40df-90a7-e796a2d3b619",
   "metadata": {
    "tags": []
   },
   "outputs": [],
   "source": [
    "train = pd.DataFrame(full_transform.fit_transform(strat_train_set), \n",
    "                 columns=strat_train_set.columns[1:-1])\n",
    "test = pd.DataFrame(full_transform.fit_transform(strat_test_set), \n",
    "                 columns=strat_train_set.columns[1:-1])"
   ]
  },
  {
   "cell_type": "code",
   "execution_count": 8,
   "id": "fb677ce8-6693-4647-b5b9-6d9866d1c230",
   "metadata": {},
   "outputs": [],
   "source": [
    "train.to_csv('Data/train_data.csv', index=False)\n",
    "test.to_csv('Data/test_data.csv', index=False)"
   ]
  },
  {
   "cell_type": "code",
   "execution_count": 9,
   "id": "54ed0416-fa53-4aaa-81ad-3d547f624315",
   "metadata": {},
   "outputs": [],
   "source": [
    "full_df = pd.concat([train, test]).reset_index(drop=True)"
   ]
  },
  {
   "cell_type": "code",
   "execution_count": 10,
   "id": "6d7a1a76-1676-4051-9bfb-88bd8963d365",
   "metadata": {},
   "outputs": [],
   "source": [
    "full_df.to_csv('Data/full_data.csv', index=False)"
   ]
  }
 ],
 "metadata": {
  "kernelspec": {
   "display_name": "Python 3 (ipykernel)",
   "language": "python",
   "name": "python3"
  },
  "language_info": {
   "codemirror_mode": {
    "name": "ipython",
    "version": 3
   },
   "file_extension": ".py",
   "mimetype": "text/x-python",
   "name": "python",
   "nbconvert_exporter": "python",
   "pygments_lexer": "ipython3",
   "version": "3.8.2"
  }
 },
 "nbformat": 4,
 "nbformat_minor": 5
}
