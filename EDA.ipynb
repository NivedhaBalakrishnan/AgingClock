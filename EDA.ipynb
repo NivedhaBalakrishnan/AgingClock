{
 "cells": [
  {
   "cell_type": "markdown",
   "id": "c359f7cb-d674-4ef6-9264-2002ac14bcbf",
   "metadata": {},
   "source": [
    "#### Exploritary Data Analysis of NHANES Dataset"
   ]
  },
  {
   "cell_type": "code",
   "execution_count": 1,
   "id": "ef61dd27-897c-42bf-abc4-d6fa963ccbeb",
   "metadata": {
    "tags": []
   },
   "outputs": [],
   "source": [
    "import numpy as np\n",
    "import pandas as pd\n",
    "from pathlib import Path"
   ]
  },
  {
   "cell_type": "code",
   "execution_count": 2,
   "id": "cf568e21-7e18-4e50-863d-34f4a5aa0c9d",
   "metadata": {
    "tags": []
   },
   "outputs": [],
   "source": [
    "DATA_PATH = Path.cwd()/'Data'\n",
    "NHANES_PATH = DATA_PATH/'NHANES_raw'\n",
    "DEMO_PATH = NHANES_PATH/'Demographics'\n",
    "LAB_PATH = NHANES_PATH/'Laboratory'"
   ]
  },
  {
   "cell_type": "code",
   "execution_count": 3,
   "id": "741f1ae6-783c-4c5d-a2b3-8707eac77702",
   "metadata": {
    "tags": []
   },
   "outputs": [],
   "source": [
    "#Inital Exploration of Laboratory and Demographic Data from NHANES data set\n",
    "\n",
    "# demo_files = [x.name for x in DEMO_PATH.iterdir() if x.is_file()]\n",
    "\n",
    "# demo_files.sort()\n",
    "\n",
    "# demo_files\n",
    "\n",
    "# pd.read_sas(DEMO_PATH/demo_files[-1])\n",
    "\n",
    "# pd.read_sas(DEMO_PATH/demo_files[-1]).info()\n",
    "\n",
    "# [pd.read_sas(DEMO_PATH/file_name).shape for file_name in demo_files]\n",
    "\n",
    "# [(pd.read_sas(DEMO_PATH/file_name).SEQN.min(), pd.read_sas(DEMO_PATH/file_name).SEQN.max()) for file_name in demo_files]\n",
    "\n",
    "# lab_files = [file_path for file_path in (LAB_PATH/'17-20').iterdir() if file_path.is_file()]\n",
    "# pd.read_sas(lab_files[0])\n",
    "\n",
    "# pd.read_sas(lab_files[1])\n",
    "\n",
    "# pd.read_sas(lab_files[2])\n",
    "\n",
    "# pd.read_csv"
   ]
  },
  {
   "cell_type": "code",
   "execution_count": 4,
   "id": "e764ce3f-ab00-4ffa-b6ae-c2e429f79c58",
   "metadata": {},
   "outputs": [],
   "source": [
    "df = pd.read_csv(DATA_PATH/'data.csv')"
   ]
  },
  {
   "cell_type": "code",
   "execution_count": 5,
   "id": "2bed41cb-3f00-4b0a-83e6-42b5355d91bf",
   "metadata": {},
   "outputs": [],
   "source": [
    "with open(DATA_PATH/'features_ordered.txt') as file:\n",
    "    features_ordered = file.readlines()\n",
    "    features_ordered = [x.strip() for x in features_ordered]"
   ]
  },
  {
   "cell_type": "code",
   "execution_count": 6,
   "id": "45921f7b-9dc8-4eeb-9057-625400d4b9f4",
   "metadata": {},
   "outputs": [],
   "source": [
    "df = df[features_ordered]"
   ]
  },
  {
   "cell_type": "code",
   "execution_count": 7,
   "id": "04852d79-9f2c-42f1-9b91-ba8cf76a443e",
   "metadata": {},
   "outputs": [],
   "source": [
    "#df['URIC_mgdl'] = pd.read_sas(LAB_PATH/'P_BIOPRO.XPT').LBXSBU\n",
    "#This is BUN (Blood Urea Nitrogen) for 2017-2020 we can add it instead of URIC ACID"
   ]
  },
  {
   "cell_type": "code",
   "execution_count": 8,
   "id": "0610c7a3-c861-40b0-884c-142102838e5a",
   "metadata": {
    "tags": []
   },
   "outputs": [],
   "source": [
    "pd.read_sas(LAB_PATH/'P_BIOPRO.XPT').LBXSBU\n",
    "df.drop(labels=['WBC_TuL'], axis=1, inplace=True)"
   ]
  },
  {
   "cell_type": "code",
   "execution_count": 9,
   "id": "5477675e-d492-48cc-bcca-f4a51ce0c471",
   "metadata": {
    "collapsed": true,
    "jupyter": {
     "outputs_hidden": true
    },
    "tags": []
   },
   "outputs": [
    {
     "name": "stdout",
     "output_type": "stream",
     "text": [
      "<class 'pandas.core.frame.DataFrame'>\n",
      "RangeIndex: 17414 entries, 0 to 17413\n",
      "Data columns (total 23 columns):\n",
      " #   Column              Non-Null Count  Dtype  \n",
      "---  ------              --------------  -----  \n",
      " 0   SEQN                17414 non-null  int64  \n",
      " 1   GENDER              17414 non-null  object \n",
      " 2   AGE                 17414 non-null  int64  \n",
      " 3   ALBUMIN_mgl         17414 non-null  float64\n",
      " 4   GLUCOSE_mgdL        17414 non-null  float64\n",
      " 5   URIC_mgdL           17414 non-null  float64\n",
      " 6   CHOLESTEROL_mgdL    17414 non-null  float64\n",
      " 7   Tot_PROTEIN_gdL     17414 non-null  float64\n",
      " 8   SODIUM_mmolL        17414 non-null  float64\n",
      " 9   CREATININE_mgdl     17414 non-null  float64\n",
      " 10  Hemoglobin_gdl      17414 non-null  float64\n",
      " 11  BILIRUBIN_mgdL      17414 non-null  float64\n",
      " 12  TRIGLYCERIDES_mgdL  17414 non-null  float64\n",
      " 13  HDL_mgdl            17414 non-null  float64\n",
      " 14  LDL_mgdL            17414 non-null  float64\n",
      " 15  CALCIUM_mgdL        17414 non-null  float64\n",
      " 16  POTASSIUM_mmolL     17414 non-null  float64\n",
      " 17  Hematocrit %        17414 non-null  float64\n",
      " 18  MCHC_gdl            17414 non-null  float64\n",
      " 19  MCV_fL              17414 non-null  float64\n",
      " 20  Platelet_TuL        17414 non-null  float64\n",
      " 21  RBC_MuL             17414 non-null  float64\n",
      " 22  Tot_Chol_mgdl       17414 non-null  float64\n",
      "dtypes: float64(20), int64(2), object(1)\n",
      "memory usage: 3.1+ MB\n"
     ]
    }
   ],
   "source": [
    "df.info()"
   ]
  },
  {
   "cell_type": "code",
   "execution_count": 10,
   "id": "7d000feb-243f-42b4-8ac7-a79cd2a68e7a",
   "metadata": {},
   "outputs": [],
   "source": [
    "df.to_csv(DATA_PATH/'ordered_data.csv')"
   ]
  }
 ],
 "metadata": {
  "kernelspec": {
   "display_name": "Python 3 (ipykernel)",
   "language": "python",
   "name": "python3"
  },
  "language_info": {
   "codemirror_mode": {
    "name": "ipython",
    "version": 3
   },
   "file_extension": ".py",
   "mimetype": "text/x-python",
   "name": "python",
   "nbconvert_exporter": "python",
   "pygments_lexer": "ipython3",
   "version": "3.8.2"
  }
 },
 "nbformat": 4,
 "nbformat_minor": 5
}
