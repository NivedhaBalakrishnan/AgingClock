{
 "cells": [
  {
   "cell_type": "markdown",
   "id": "fe454deb",
   "metadata": {},
   "source": [
    "### Import packages"
   ]
  },
  {
   "cell_type": "code",
   "execution_count": 1,
   "id": "662124fb",
   "metadata": {},
   "outputs": [],
   "source": [
    "import pandas as pd\n",
    "from os import listdir\n",
    "from os.path import isfile, join\n",
    "from functools import reduce"
   ]
  },
  {
   "cell_type": "markdown",
   "id": "2cd3a53a",
   "metadata": {},
   "source": [
    "### Import all files from directories"
   ]
  },
  {
   "cell_type": "code",
   "execution_count": 2,
   "id": "d2cd591c",
   "metadata": {},
   "outputs": [],
   "source": [
    "#albcr = [f for f in listdir(\"albcr\") if isfile(join(\"albcr\", f))]\n",
    "bio = [f for f in listdir(\"bio\") if isfile(join(\"bio\", f))]\n",
    "cbc = [f for f in listdir(\"cbc\") if isfile(join(\"cbc\", f))]\n",
    "chol = [f for f in listdir(\"chol\") if isfile(join(\"chol\", f))]\n",
    "cholhdl = [f for f in listdir(\"cholhdl\") if isfile(join(\"cholhdl\", f))]\n",
    "demo = [f for f in listdir(\"demo\") if isfile(join(\"demo\", f))]\n",
    "glu = [f for f in listdir(\"glu\") if isfile(join(\"glu\", f))]\n",
    "hdl = [f for f in listdir(\"hdl\") if isfile(join(\"hdl\", f))]\n",
    "trildl = [f for f in listdir(\"trildl\") if isfile(join(\"trildl\", f))]"
   ]
  },
  {
   "cell_type": "markdown",
   "id": "3a803ae4",
   "metadata": {},
   "source": [
    "#### Give string values to gender"
   ]
  },
  {
   "cell_type": "code",
   "execution_count": 3,
   "id": "46436e74",
   "metadata": {},
   "outputs": [],
   "source": [
    "def gender(x):\n",
    "    x = int(x)\n",
    "    if x == 1:\n",
    "        return \"M\"\n",
    "    elif x == 2:\n",
    "        return \"F\""
   ]
  },
  {
   "cell_type": "markdown",
   "id": "23e8fec8",
   "metadata": {},
   "source": [
    "### Extracting demographical data"
   ]
  },
  {
   "cell_type": "code",
   "execution_count": 4,
   "id": "02c02d83",
   "metadata": {},
   "outputs": [],
   "source": [
    "demo_data = pd.DataFrame()\n",
    "for i in demo:\n",
    "    temp = pd.read_sas(\"demo/\"+i)\n",
    "    temp = temp[[\"SEQN\",\"RIAGENDR\",\"RIDAGEYR\"]]\n",
    "    temp.columns = [\"SEQN\",\"GENDER\",\"AGE\"]\n",
    "    temp = temp.astype({\"AGE\":int,\"SEQN\":int})\n",
    "    temp[\"GENDER\"] = temp[\"GENDER\"].apply(gender)\n",
    "    demo_data = pd.concat([demo_data,temp],axis=0)\n",
    "    del temp"
   ]
  },
  {
   "cell_type": "markdown",
   "id": "6511610c",
   "metadata": {},
   "source": [
    "### Extracting Albumin and Creatinine "
   ]
  },
  {
   "cell_type": "code",
   "execution_count": 5,
   "id": "85f03cb6",
   "metadata": {},
   "outputs": [],
   "source": [
    "# albcr_data = pd.DataFrame()\n",
    "# for i in albcr:\n",
    "#     temp = pd.read_sas(\"albcr/\"+i)\n",
    "#     if \"URXUMS\" in temp:\n",
    "#         albumin = \"URXUMS\"\n",
    "#     elif \"URXUMASI\" in temp:\n",
    "#         albumin = \"URXUMASI\"\n",
    "#     temp = temp[[\"SEQN\",albumin,\"URXUCR\"]]\n",
    "#     temp.columns = [\"SEQN\",\"Albumin_mgl\",\"Creatinine_mgdl\"]\n",
    "#     temp = temp.astype({\"SEQN\":int})\n",
    "#     albcr_data = pd.concat([albcr_data,temp],axis=0)\n",
    "#     del temp"
   ]
  },
  {
   "cell_type": "markdown",
   "id": "33189cab",
   "metadata": {},
   "source": [
    "### Extracting data from standard biochemistry profile"
   ]
  },
  {
   "cell_type": "code",
   "execution_count": 5,
   "id": "9e8f480d",
   "metadata": {
    "scrolled": false
   },
   "outputs": [],
   "source": [
    "bio_data = pd.DataFrame()\n",
    "for i in bio:\n",
    "    temp = pd.read_sas(\"bio/\"+i)\n",
    "    if \"LBXSAPSI\" in temp:\n",
    "        alkPho = \"LBXSAPSI\"\n",
    "    elif \"LBDSAPSI\" in temp:\n",
    "        alkPho = \"LBDSAPSI\"\n",
    "    temp = temp[[\"SEQN\",\"LBXSKSI\",\"LBXSNASI\",\"LBDSTBSI\",\"LBDSCASI\",\"LBXSTP\",\"LBDSBUSI\",alkPho,\"LBDSALSI\",\"LBDSCRSI\"]]\n",
    "    temp.columns = [\"SEQN\",\"Potassium_mmolL\",\"Sodium_mmolL\",\"Bilirubin_umolL\",\"Calcium_mmolL\",\"Protein_gdL\",\"Urea_mmolL\",\n",
    "                   \"AlkPhos_UL\",\"Albumin_gL\",\"Creatinine_umolL\"]\n",
    "    temp = temp.astype({\"SEQN\":int})\n",
    "    bio_data = pd.concat([bio_data,temp],axis=0)\n",
    "    del temp"
   ]
  },
  {
   "cell_type": "markdown",
   "id": "374a0200",
   "metadata": {},
   "source": [
    "### Extracting Glucose"
   ]
  },
  {
   "cell_type": "code",
   "execution_count": 6,
   "id": "56946511",
   "metadata": {},
   "outputs": [],
   "source": [
    "glu_data = pd.DataFrame()\n",
    "for i in glu:\n",
    "    temp = pd.read_sas(\"glu/\"+i)\n",
    "    if \"LBDGLUSI\" in temp:\n",
    "        glucose = \"LBDGLUSI\"\n",
    "    elif \"LBXGLUSI\" in temp:\n",
    "        glucose = \"LBXGLUSI\"\n",
    "    else:\n",
    "        print(i)\n",
    "    temp = temp[[\"SEQN\",glucose]]\n",
    "    temp.columns = [\"SEQN\",\"Glucose_mmolL\"]\n",
    "    temp = temp.astype({\"SEQN\":int})\n",
    "    glu_data = pd.concat([glu_data,temp],axis=0)\n",
    "    del temp"
   ]
  },
  {
   "cell_type": "markdown",
   "id": "fafb8143",
   "metadata": {},
   "source": [
    "### Extracting LDL and Triglyceride"
   ]
  },
  {
   "cell_type": "code",
   "execution_count": 7,
   "id": "4d04c306",
   "metadata": {},
   "outputs": [],
   "source": [
    "trildl_data = pd.DataFrame()\n",
    "for i in trildl:\n",
    "    temp = pd.read_sas(\"trildl/\"+i)\n",
    "    temp = temp[[\"SEQN\",\"LBDLDLSI\",\"LBDTRSI\"]]\n",
    "    temp.columns = [\"SEQN\",\"LDL_mmolL\",\"Triglyceride_mmolL\"]\n",
    "    temp = temp.astype({\"SEQN\":int})\n",
    "    trildl_data = pd.concat([trildl_data,temp],axis=0)\n",
    "    del temp"
   ]
  },
  {
   "cell_type": "markdown",
   "id": "116c734d",
   "metadata": {},
   "source": [
    "### Extracting HDL"
   ]
  },
  {
   "cell_type": "code",
   "execution_count": 8,
   "id": "cef00a1a",
   "metadata": {},
   "outputs": [],
   "source": [
    "hdl_data = pd.DataFrame()\n",
    "for i in hdl:\n",
    "    temp = pd.read_sas(\"hdl/\"+i)\n",
    "    temp = temp[[\"SEQN\",\"LBDHDDSI\"]]\n",
    "    temp.columns = [\"SEQN\",\"HDL_mmolL\"]\n",
    "    temp = temp.astype({\"SEQN\":int})\n",
    "    hdl_data = pd.concat([hdl_data,temp],axis=0)\n",
    "    del temp"
   ]
  },
  {
   "cell_type": "markdown",
   "id": "b335b608",
   "metadata": {},
   "source": [
    "### Extracting Total Cholesterol"
   ]
  },
  {
   "cell_type": "code",
   "execution_count": 9,
   "id": "d196f164",
   "metadata": {},
   "outputs": [],
   "source": [
    "chol_data = pd.DataFrame()\n",
    "for i in chol:\n",
    "    temp = pd.read_sas(\"chol/\"+i)\n",
    "    temp = temp[[\"SEQN\",\"LBDTCSI\"]]\n",
    "    temp.columns = [\"SEQN\",\"Cholesterol_mmolL\"]\n",
    "    temp = temp.astype({\"SEQN\":int})\n",
    "    chol_data = pd.concat([chol_data,temp],axis=0)\n",
    "    del temp"
   ]
  },
  {
   "cell_type": "markdown",
   "id": "33673257",
   "metadata": {},
   "source": [
    "#### Merge HDL and Cholesterol"
   ]
  },
  {
   "cell_type": "code",
   "execution_count": 10,
   "id": "6b26ccc5",
   "metadata": {},
   "outputs": [],
   "source": [
    "chol_hdl = pd.merge(hdl_data,chol_data,on=[\"SEQN\"],how=\"outer\")"
   ]
  },
  {
   "cell_type": "markdown",
   "id": "6b815d3b",
   "metadata": {},
   "source": [
    "### Extracting HDL and Cholesterol"
   ]
  },
  {
   "cell_type": "code",
   "execution_count": 11,
   "id": "3cbe6c4d",
   "metadata": {},
   "outputs": [],
   "source": [
    "x=0\n",
    "cholhdl_data = pd.DataFrame()\n",
    "for i in cholhdl:\n",
    "    temp = pd.read_sas(\"cholhdl/\"+i)\n",
    "    if \"LBDHDDSI\" in temp:\n",
    "        hdl = \"LBDHDDSI\"\n",
    "    elif \"LBDHDLSI\" in temp:\n",
    "        hdl = \"LBDHDLSI\"\n",
    "    temp = temp[[\"SEQN\",hdl,\"LBDTCSI\"]]\n",
    "    temp.columns = [\"SEQN\",\"HDL_mmolL\",\"Cholesterol_mmolL\"]\n",
    "    temp = temp.astype({\"SEQN\":int})\n",
    "    cholhdl_data = pd.concat([cholhdl_data,temp],axis=0)\n",
    "    del temp"
   ]
  },
  {
   "cell_type": "markdown",
   "id": "08443276",
   "metadata": {},
   "source": [
    "#### Concat both"
   ]
  },
  {
   "cell_type": "code",
   "execution_count": 12,
   "id": "31e385d4",
   "metadata": {},
   "outputs": [],
   "source": [
    "cholhdl_data = pd.concat([cholhdl_data,chol_hdl],axis=0)"
   ]
  },
  {
   "cell_type": "markdown",
   "id": "f3dd8cc7",
   "metadata": {},
   "source": [
    "### Extracting Complete blood count"
   ]
  },
  {
   "cell_type": "code",
   "execution_count": 13,
   "id": "be6d5c41",
   "metadata": {},
   "outputs": [],
   "source": [
    "x=0\n",
    "cbc_data = pd.DataFrame()\n",
    "for i in cbc:\n",
    "    temp = pd.read_sas(\"cbc/\"+i)\n",
    "    temp = temp[[\"SEQN\",\"LBXRBCSI\",\"LBXHGB\",\"LBXHCT\",\"LBXMCVSI\",\"LBXMC\",\"LBXPLTSI\"]]\n",
    "    temp.columns = [\"SEQN\",\"RBC_MuL\",\"Hemoglobin_gdl\",\"Hematocrit_%\",\"MCV_fL\",\"MCHC_gdl\",\"Platelet_TuL\"]\n",
    "    temp = temp.astype({\"SEQN\":int})\n",
    "    cbc_data = pd.concat([cbc_data,temp],axis=0)\n",
    "    del temp"
   ]
  },
  {
   "cell_type": "markdown",
   "id": "ccfa32fc",
   "metadata": {},
   "source": [
    "### Merge Dataframes"
   ]
  },
  {
   "cell_type": "code",
   "execution_count": 15,
   "id": "031c0307",
   "metadata": {},
   "outputs": [],
   "source": [
    "dfs = [demo_data,glu_data,bio_data,trildl_data,cholhdl_data,cbc_data]\n",
    "data = reduce(lambda  left,right: pd.merge(left,right,on=['SEQN'],\n",
    "                                            how='outer'), dfs)"
   ]
  },
  {
   "cell_type": "markdown",
   "id": "f6eead03",
   "metadata": {},
   "source": [
    "### Drop NaN values"
   ]
  },
  {
   "cell_type": "code",
   "execution_count": 16,
   "id": "dc94d7f2",
   "metadata": {},
   "outputs": [],
   "source": [
    "data = data.dropna()"
   ]
  },
  {
   "cell_type": "markdown",
   "id": "f38e0bf5",
   "metadata": {},
   "source": [
    "### For age 20+"
   ]
  },
  {
   "cell_type": "code",
   "execution_count": 17,
   "id": "d54b8881",
   "metadata": {},
   "outputs": [],
   "source": [
    "data = data[data[\"AGE\"]>=20]"
   ]
  },
  {
   "cell_type": "markdown",
   "id": "1cd8ca40",
   "metadata": {},
   "source": [
    "### Reorder Columns"
   ]
  },
  {
   "cell_type": "code",
   "execution_count": 18,
   "id": "5c2cc0a4",
   "metadata": {},
   "outputs": [],
   "source": [
    "data = data[[\"SEQN\",\"GENDER\",\"Albumin_gL\",\"Glucose_mmolL\",\"Urea_mmolL\",\"Cholesterol_mmolL\",\"Protein_gdL\",\"Sodium_mmolL\",\n",
    "             \"Creatinine_umolL\",\"Hemoglobin_gdl\",\"Bilirubin_umolL\",\"Triglyceride_mmolL\",\"HDL_mmolL\",\"LDL_mmolL\",\n",
    "             \"Calcium_mmolL\",\"Potassium_mmolL\",\"AlkPhos_UL\",\"Hematocrit_%\",\"MCHC_gdl\",\"MCV_fL\",\"Platelet_TuL\",\"RBC_MuL\",\"AGE\"]]"
   ]
  },
  {
   "cell_type": "code",
   "execution_count": 19,
   "id": "7505e7ff",
   "metadata": {},
   "outputs": [
    {
     "data": {
      "text/html": [
       "<div>\n",
       "<style scoped>\n",
       "    .dataframe tbody tr th:only-of-type {\n",
       "        vertical-align: middle;\n",
       "    }\n",
       "\n",
       "    .dataframe tbody tr th {\n",
       "        vertical-align: top;\n",
       "    }\n",
       "\n",
       "    .dataframe thead th {\n",
       "        text-align: right;\n",
       "    }\n",
       "</style>\n",
       "<table border=\"1\" class=\"dataframe\">\n",
       "  <thead>\n",
       "    <tr style=\"text-align: right;\">\n",
       "      <th></th>\n",
       "      <th>SEQN</th>\n",
       "      <th>GENDER</th>\n",
       "      <th>Albumin_gL</th>\n",
       "      <th>Glucose_mmolL</th>\n",
       "      <th>Urea_mmolL</th>\n",
       "      <th>Cholesterol_mmolL</th>\n",
       "      <th>Protein_gdL</th>\n",
       "      <th>Sodium_mmolL</th>\n",
       "      <th>Creatinine_umolL</th>\n",
       "      <th>Hemoglobin_gdl</th>\n",
       "      <th>...</th>\n",
       "      <th>LDL_mmolL</th>\n",
       "      <th>Calcium_mmolL</th>\n",
       "      <th>Potassium_mmolL</th>\n",
       "      <th>AlkPhos_UL</th>\n",
       "      <th>Hematocrit_%</th>\n",
       "      <th>MCHC_gdl</th>\n",
       "      <th>MCV_fL</th>\n",
       "      <th>Platelet_TuL</th>\n",
       "      <th>RBC_MuL</th>\n",
       "      <th>AGE</th>\n",
       "    </tr>\n",
       "  </thead>\n",
       "  <tbody>\n",
       "    <tr>\n",
       "      <th>1</th>\n",
       "      <td>2</td>\n",
       "      <td>M</td>\n",
       "      <td>45.0</td>\n",
       "      <td>4.646</td>\n",
       "      <td>6.8</td>\n",
       "      <td>5.56</td>\n",
       "      <td>7.2</td>\n",
       "      <td>144.1</td>\n",
       "      <td>61.9</td>\n",
       "      <td>14.1</td>\n",
       "      <td>...</td>\n",
       "      <td>3.52</td>\n",
       "      <td>2.325</td>\n",
       "      <td>4.06</td>\n",
       "      <td>62.0</td>\n",
       "      <td>41.8</td>\n",
       "      <td>33.6</td>\n",
       "      <td>88.5</td>\n",
       "      <td>214.0</td>\n",
       "      <td>4.73</td>\n",
       "      <td>77</td>\n",
       "    </tr>\n",
       "    <tr>\n",
       "      <th>4</th>\n",
       "      <td>5</td>\n",
       "      <td>M</td>\n",
       "      <td>45.0</td>\n",
       "      <td>5.550</td>\n",
       "      <td>5.7</td>\n",
       "      <td>7.21</td>\n",
       "      <td>7.3</td>\n",
       "      <td>137.5</td>\n",
       "      <td>70.7</td>\n",
       "      <td>14.5</td>\n",
       "      <td>...</td>\n",
       "      <td>4.34</td>\n",
       "      <td>2.375</td>\n",
       "      <td>4.63</td>\n",
       "      <td>63.0</td>\n",
       "      <td>43.6</td>\n",
       "      <td>33.3</td>\n",
       "      <td>84.9</td>\n",
       "      <td>209.0</td>\n",
       "      <td>5.13</td>\n",
       "      <td>49</td>\n",
       "    </tr>\n",
       "    <tr>\n",
       "      <th>6</th>\n",
       "      <td>7</td>\n",
       "      <td>F</td>\n",
       "      <td>45.0</td>\n",
       "      <td>4.756</td>\n",
       "      <td>3.6</td>\n",
       "      <td>6.34</td>\n",
       "      <td>8.1</td>\n",
       "      <td>143.2</td>\n",
       "      <td>53.0</td>\n",
       "      <td>13.4</td>\n",
       "      <td>...</td>\n",
       "      <td>3.28</td>\n",
       "      <td>2.450</td>\n",
       "      <td>4.25</td>\n",
       "      <td>75.0</td>\n",
       "      <td>40.2</td>\n",
       "      <td>33.3</td>\n",
       "      <td>87.4</td>\n",
       "      <td>244.0</td>\n",
       "      <td>4.60</td>\n",
       "      <td>59</td>\n",
       "    </tr>\n",
       "    <tr>\n",
       "      <th>9</th>\n",
       "      <td>10</td>\n",
       "      <td>M</td>\n",
       "      <td>42.0</td>\n",
       "      <td>4.989</td>\n",
       "      <td>4.6</td>\n",
       "      <td>3.62</td>\n",
       "      <td>7.6</td>\n",
       "      <td>140.9</td>\n",
       "      <td>79.6</td>\n",
       "      <td>15.4</td>\n",
       "      <td>...</td>\n",
       "      <td>2.07</td>\n",
       "      <td>2.350</td>\n",
       "      <td>4.28</td>\n",
       "      <td>86.0</td>\n",
       "      <td>46.2</td>\n",
       "      <td>33.5</td>\n",
       "      <td>92.3</td>\n",
       "      <td>167.0</td>\n",
       "      <td>5.00</td>\n",
       "      <td>43</td>\n",
       "    </tr>\n",
       "    <tr>\n",
       "      <th>11</th>\n",
       "      <td>12</td>\n",
       "      <td>M</td>\n",
       "      <td>47.0</td>\n",
       "      <td>4.606</td>\n",
       "      <td>7.1</td>\n",
       "      <td>4.03</td>\n",
       "      <td>7.2</td>\n",
       "      <td>141.3</td>\n",
       "      <td>88.4</td>\n",
       "      <td>16.0</td>\n",
       "      <td>...</td>\n",
       "      <td>2.30</td>\n",
       "      <td>2.200</td>\n",
       "      <td>3.81</td>\n",
       "      <td>63.0</td>\n",
       "      <td>48.1</td>\n",
       "      <td>33.3</td>\n",
       "      <td>83.5</td>\n",
       "      <td>357.0</td>\n",
       "      <td>5.76</td>\n",
       "      <td>37</td>\n",
       "    </tr>\n",
       "    <tr>\n",
       "      <th>14</th>\n",
       "      <td>15</td>\n",
       "      <td>F</td>\n",
       "      <td>44.0</td>\n",
       "      <td>5.484</td>\n",
       "      <td>4.3</td>\n",
       "      <td>5.15</td>\n",
       "      <td>7.2</td>\n",
       "      <td>135.7</td>\n",
       "      <td>53.0</td>\n",
       "      <td>13.3</td>\n",
       "      <td>...</td>\n",
       "      <td>3.39</td>\n",
       "      <td>2.300</td>\n",
       "      <td>4.19</td>\n",
       "      <td>31.0</td>\n",
       "      <td>40.2</td>\n",
       "      <td>33.1</td>\n",
       "      <td>97.1</td>\n",
       "      <td>255.0</td>\n",
       "      <td>4.14</td>\n",
       "      <td>38</td>\n",
       "    </tr>\n",
       "    <tr>\n",
       "      <th>19</th>\n",
       "      <td>20</td>\n",
       "      <td>F</td>\n",
       "      <td>44.0</td>\n",
       "      <td>5.033</td>\n",
       "      <td>3.6</td>\n",
       "      <td>3.75</td>\n",
       "      <td>7.5</td>\n",
       "      <td>136.3</td>\n",
       "      <td>26.5</td>\n",
       "      <td>14.5</td>\n",
       "      <td>...</td>\n",
       "      <td>2.04</td>\n",
       "      <td>2.225</td>\n",
       "      <td>4.07</td>\n",
       "      <td>50.0</td>\n",
       "      <td>41.2</td>\n",
       "      <td>35.1</td>\n",
       "      <td>91.0</td>\n",
       "      <td>220.0</td>\n",
       "      <td>4.53</td>\n",
       "      <td>23</td>\n",
       "    </tr>\n",
       "    <tr>\n",
       "      <th>24</th>\n",
       "      <td>25</td>\n",
       "      <td>F</td>\n",
       "      <td>43.0</td>\n",
       "      <td>5.700</td>\n",
       "      <td>5.0</td>\n",
       "      <td>4.11</td>\n",
       "      <td>7.4</td>\n",
       "      <td>136.3</td>\n",
       "      <td>44.2</td>\n",
       "      <td>13.4</td>\n",
       "      <td>...</td>\n",
       "      <td>1.66</td>\n",
       "      <td>2.200</td>\n",
       "      <td>4.37</td>\n",
       "      <td>53.0</td>\n",
       "      <td>38.3</td>\n",
       "      <td>35.0</td>\n",
       "      <td>88.7</td>\n",
       "      <td>337.0</td>\n",
       "      <td>4.31</td>\n",
       "      <td>42</td>\n",
       "    </tr>\n",
       "    <tr>\n",
       "      <th>28</th>\n",
       "      <td>29</td>\n",
       "      <td>M</td>\n",
       "      <td>46.0</td>\n",
       "      <td>7.894</td>\n",
       "      <td>11.8</td>\n",
       "      <td>5.59</td>\n",
       "      <td>7.8</td>\n",
       "      <td>141.5</td>\n",
       "      <td>79.6</td>\n",
       "      <td>15.8</td>\n",
       "      <td>...</td>\n",
       "      <td>3.44</td>\n",
       "      <td>2.425</td>\n",
       "      <td>4.12</td>\n",
       "      <td>70.0</td>\n",
       "      <td>44.7</td>\n",
       "      <td>35.3</td>\n",
       "      <td>93.1</td>\n",
       "      <td>232.0</td>\n",
       "      <td>4.81</td>\n",
       "      <td>62</td>\n",
       "    </tr>\n",
       "    <tr>\n",
       "      <th>33</th>\n",
       "      <td>34</td>\n",
       "      <td>F</td>\n",
       "      <td>44.0</td>\n",
       "      <td>5.339</td>\n",
       "      <td>3.6</td>\n",
       "      <td>5.04</td>\n",
       "      <td>7.5</td>\n",
       "      <td>143.1</td>\n",
       "      <td>35.4</td>\n",
       "      <td>12.4</td>\n",
       "      <td>...</td>\n",
       "      <td>3.49</td>\n",
       "      <td>2.475</td>\n",
       "      <td>4.14</td>\n",
       "      <td>65.0</td>\n",
       "      <td>37.8</td>\n",
       "      <td>32.8</td>\n",
       "      <td>87.3</td>\n",
       "      <td>373.0</td>\n",
       "      <td>4.32</td>\n",
       "      <td>38</td>\n",
       "    </tr>\n",
       "  </tbody>\n",
       "</table>\n",
       "<p>10 rows × 23 columns</p>\n",
       "</div>"
      ],
      "text/plain": [
       "    SEQN GENDER  Albumin_gL  Glucose_mmolL  Urea_mmolL  Cholesterol_mmolL  \\\n",
       "1      2      M        45.0          4.646         6.8               5.56   \n",
       "4      5      M        45.0          5.550         5.7               7.21   \n",
       "6      7      F        45.0          4.756         3.6               6.34   \n",
       "9     10      M        42.0          4.989         4.6               3.62   \n",
       "11    12      M        47.0          4.606         7.1               4.03   \n",
       "14    15      F        44.0          5.484         4.3               5.15   \n",
       "19    20      F        44.0          5.033         3.6               3.75   \n",
       "24    25      F        43.0          5.700         5.0               4.11   \n",
       "28    29      M        46.0          7.894        11.8               5.59   \n",
       "33    34      F        44.0          5.339         3.6               5.04   \n",
       "\n",
       "    Protein_gdL  Sodium_mmolL  Creatinine_umolL  Hemoglobin_gdl  ...  \\\n",
       "1           7.2         144.1              61.9            14.1  ...   \n",
       "4           7.3         137.5              70.7            14.5  ...   \n",
       "6           8.1         143.2              53.0            13.4  ...   \n",
       "9           7.6         140.9              79.6            15.4  ...   \n",
       "11          7.2         141.3              88.4            16.0  ...   \n",
       "14          7.2         135.7              53.0            13.3  ...   \n",
       "19          7.5         136.3              26.5            14.5  ...   \n",
       "24          7.4         136.3              44.2            13.4  ...   \n",
       "28          7.8         141.5              79.6            15.8  ...   \n",
       "33          7.5         143.1              35.4            12.4  ...   \n",
       "\n",
       "    LDL_mmolL  Calcium_mmolL  Potassium_mmolL  AlkPhos_UL  Hematocrit_%  \\\n",
       "1        3.52          2.325             4.06        62.0          41.8   \n",
       "4        4.34          2.375             4.63        63.0          43.6   \n",
       "6        3.28          2.450             4.25        75.0          40.2   \n",
       "9        2.07          2.350             4.28        86.0          46.2   \n",
       "11       2.30          2.200             3.81        63.0          48.1   \n",
       "14       3.39          2.300             4.19        31.0          40.2   \n",
       "19       2.04          2.225             4.07        50.0          41.2   \n",
       "24       1.66          2.200             4.37        53.0          38.3   \n",
       "28       3.44          2.425             4.12        70.0          44.7   \n",
       "33       3.49          2.475             4.14        65.0          37.8   \n",
       "\n",
       "    MCHC_gdl  MCV_fL  Platelet_TuL  RBC_MuL  AGE  \n",
       "1       33.6    88.5         214.0     4.73   77  \n",
       "4       33.3    84.9         209.0     5.13   49  \n",
       "6       33.3    87.4         244.0     4.60   59  \n",
       "9       33.5    92.3         167.0     5.00   43  \n",
       "11      33.3    83.5         357.0     5.76   37  \n",
       "14      33.1    97.1         255.0     4.14   38  \n",
       "19      35.1    91.0         220.0     4.53   23  \n",
       "24      35.0    88.7         337.0     4.31   42  \n",
       "28      35.3    93.1         232.0     4.81   62  \n",
       "33      32.8    87.3         373.0     4.32   38  \n",
       "\n",
       "[10 rows x 23 columns]"
      ]
     },
     "execution_count": 19,
     "metadata": {},
     "output_type": "execute_result"
    }
   ],
   "source": [
    "data.head(10)"
   ]
  },
  {
   "cell_type": "markdown",
   "id": "bfc42bcc",
   "metadata": {},
   "source": [
    "### Export to CSV"
   ]
  },
  {
   "cell_type": "code",
   "execution_count": 20,
   "id": "607f8bcc",
   "metadata": {},
   "outputs": [],
   "source": [
    "data.to_csv(r\"D:\\A_SJSU\\Python\\Program\\Jupyter_notebook\\ML\\aging clock\\data\\data_bio_albcr.csv\",index=False,header=True)"
   ]
  },
  {
   "cell_type": "markdown",
   "id": "afcb230a",
   "metadata": {},
   "source": [
    "### Data for Deep Learning"
   ]
  },
  {
   "cell_type": "code",
   "execution_count": 21,
   "id": "b9bc1729",
   "metadata": {},
   "outputs": [],
   "source": [
    "# Removing SEQN and assigning binary for gender\n",
    "data[\"GENDER\"] = data[\"GENDER\"].map(dict(M=0, F=1))\n",
    "data = data.drop([\"SEQN\"],axis=1)"
   ]
  },
  {
   "cell_type": "code",
   "execution_count": 22,
   "id": "9eef90a8",
   "metadata": {},
   "outputs": [],
   "source": [
    "data.to_csv(r\"D:\\A_SJSU\\Python\\Program\\Jupyter_notebook\\ML\\aging clock\\data\\data_bio_albcr_DL.csv\",index=False,header=True)"
   ]
  },
  {
   "cell_type": "code",
   "execution_count": null,
   "id": "c4e6a4c7",
   "metadata": {},
   "outputs": [],
   "source": []
  },
  {
   "cell_type": "code",
   "execution_count": null,
   "id": "1ca6f4da",
   "metadata": {},
   "outputs": [],
   "source": []
  }
 ],
 "metadata": {
  "kernelspec": {
   "display_name": "Python 3",
   "language": "python",
   "name": "python3"
  },
  "language_info": {
   "codemirror_mode": {
    "name": "ipython",
    "version": 3
   },
   "file_extension": ".py",
   "mimetype": "text/x-python",
   "name": "python",
   "nbconvert_exporter": "python",
   "pygments_lexer": "ipython3",
   "version": "3.8.8"
  }
 },
 "nbformat": 4,
 "nbformat_minor": 5
}
