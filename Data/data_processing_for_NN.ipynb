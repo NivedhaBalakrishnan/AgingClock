{
 "cells": [
  {
   "cell_type": "code",
   "execution_count": 1,
   "id": "07dfad5c",
   "metadata": {},
   "outputs": [],
   "source": [
    "import pandas as pd\n",
    "from pathlib import Path\n",
    "import numpy as np\n",
    "\n",
    "from sklearn.model_selection import StratifiedShuffleSplit\n",
    "from sklearn.pipeline import Pipeline\n",
    "from sklearn.compose import ColumnTransformer\n",
    "from sklearn.preprocessing import OrdinalEncoder\n",
    "from sklearn.preprocessing import StandardScaler"
   ]
  },
  {
   "cell_type": "code",
   "execution_count": 2,
   "id": "e48cdd61",
   "metadata": {},
   "outputs": [],
   "source": [
    "DATA_PATH = Path.cwd()/'Data'\n",
    "RAND_STATE = 0"
   ]
  },
  {
   "cell_type": "code",
   "execution_count": 3,
   "id": "4b88c6ae",
   "metadata": {},
   "outputs": [],
   "source": [
    "def make_test_train_full(from_path=DATA_PATH/'Final_data.csv', to_path='Data/'):\n",
    "    \"\"\"Create a test, train, and full csv files from preprocessed raw data\"\"\"\n",
    "    full_df = pd.read_csv(from_path, low_memory=False)\n",
    "    full_df.drop(labels='AlkPhos_UL', inplace=True, axis=1, errors='ignore')\n",
    "\n",
    "    #Adding categorical age column for a stratified train/test split\n",
    "    AGE_GROUP_AMOUNT = 8\n",
    "    full_df['AGE_GROUP'] = pd.cut(full_df['AGE'], bins=AGE_GROUP_AMOUNT,\n",
    "                                  labels=range(AGE_GROUP_AMOUNT))\n",
    "\n",
    "    #Making train test split with proportional age groups\n",
    "    split = StratifiedShuffleSplit(n_splits=1, test_size=0.1,\n",
    "                                   random_state=RAND_STATE)\n",
    "    for train_index, test_index in split.split(full_df, full_df['AGE_GROUP']):\n",
    "        strat_train_set = full_df.iloc[train_index]\n",
    "        strat_test_set = full_df.iloc[test_index]\n",
    "\n",
    "    full_transform = ColumnTransformer([\n",
    "        ('encoder', OrdinalEncoder(), ['GENDER']),\n",
    "        ('drop', 'drop', ['SEQN', 'AGE_GROUP']),\n",
    "        ('scaler', StandardScaler(), list(strat_train_set.columns)[2:-2]),\n",
    "        ('passthrough', 'passthrough', [\"AGE\"]),\n",
    "    ])\n",
    "\n",
    "    trans_train = full_transform.fit_transform(strat_train_set)\n",
    "\n",
    "    train = pd.DataFrame(full_transform.fit_transform(strat_train_set), \n",
    "                     columns=strat_train_set.columns[1:-1])\n",
    "    test = pd.DataFrame(full_transform.fit_transform(strat_test_set), \n",
    "                     columns=strat_train_set.columns[1:-1])\n",
    "    train.to_csv(to_path+'train_data.csv', index=False)\n",
    "    test.to_csv(to_path+'test_data.csv', index=False)\n",
    "\n",
    "    full_df = pd.concat([train, test]).reset_index(drop=True)\n",
    "    full_df.to_csv(to_path+'full_data.csv', index=False)"
   ]
  },
  {
   "cell_type": "code",
   "execution_count": 4,
   "id": "6f5a084f",
   "metadata": {},
   "outputs": [],
   "source": [
    "def make_biomarkers_units(to_path=\"Data/non_NHANES/markers_units.csv\"):\n",
    "    \"\"\"Create a zipped list of biomarkers and their units of emasurements\"\"\"\n",
    "    a='''Albumin**                   [                ] 35 - 52 g/l\n",
    "    Glucose**                        [                ] 3.9 - 5.8 mmole/l\n",
    "    Urea**(BUN)                      [                ] 2.5 - 6.4 mmole/l\n",
    "    Cholesterol**                    [                ] 3.37 - 5.96 mmole/l\n",
    "    Protein total**                  [                ] 64 - 83 g/l\n",
    "    Sodium**                         [                ] 136 - 146 mmole/l\n",
    "    Creatinine**                     [                ] 53 - 97 mmole/l\n",
    "    Hemoglobin**                     [                ] 11.7 - 15.5 g/dl\n",
    "    Bilirubin total                  [                ] 1.7 - 21 mcmole/l\n",
    "    Triglycerides                    [                ] 0.68 - 6 mmole/l\n",
    "    HDL Cholesterol                  [                ] < 3.3 mmole/l\n",
    "    LDL cholesterol (by Friedewald)  [                ] 1.81- 4.04 mmole/l\n",
    "    Calcium                          [                ] 2.15 - 2.65 mmole/l\n",
    "    Potassium                        [                ] 3.4 - 5.1 mmole/l\n",
    "    Hematocrit                       [                ] 37 - 50 %\n",
    "    MCHC                             [                ] 31.5 - 35.7 g/dL\n",
    "    MCV                              [                ] 82 - 95 fl\n",
    "    Platelets                        [                ] 150 - 450 10^3 /mcl\n",
    "    Erythrocytes (RBC)               [                ] 3.5 - 5.5 10^6 /mcl'''\n",
    "\n",
    "    lines = a.splitlines()\n",
    "    lines = [l.split('[') for l in lines]\n",
    "    lines = [(b.strip(), m.strip()) for b, m in lines]\n",
    "\n",
    "    biomarkers = [l[0] for l in lines]\n",
    "    units = [l[1][2:] for l in lines]\n",
    "    units[4] = '6.4 - 8.3 g/dl'\n",
    "\n",
    "    s = 'Biomarker,Unit\\n'\n",
    "    for b, u in list(zip(biomarkers, units)):\n",
    "        s += b+','+u+'\\n'\n",
    "\n",
    "    with open(to_path, \"w\") as text_file:\n",
    "        text_file.write(s.strip())"
   ]
  },
  {
   "cell_type": "code",
   "execution_count": 5,
   "id": "da4d4115",
   "metadata": {},
   "outputs": [],
   "source": [
    "samples = [list(pd.read_csv('Data/non_NHANES/samples_from_aging.csv').iloc[i]) \n",
    "           for i in range(len(pd.read_csv(\n",
    "               'Data/non_NHANES/samples_from_aging.csv')))]"
   ]
  },
  {
   "cell_type": "code",
   "execution_count": 6,
   "id": "1ab9da65",
   "metadata": {},
   "outputs": [],
   "source": [
    "def make_samples():\n",
    "\n",
    "    MALE69 = [1.0, 37.0, 5.16, 3.89, 4.73, 5.9, 140.0, 88.4, 14.4, 18.81, 1.11,\n",
    "              1.05, 3.13, 2.05, 4.4, 44.2, 32.6, 91.0, 188.0, 4.86, 69.0]\n",
    "    MALE40=[1.0, 49.21, 5.28, 7.3, 7.04, 7.0, 143.0, 120, 16.5, 17.2, 1.35, #100.5 Creatine -> 120\n",
    "            1.6, 4.83, 2.48, 4.7, 46.7, 35.4, 86.5, 177.0, 5.41, 40.0]\n",
    "    MALE29 = [1.0, 47.64, 5.06, 6.0, 5.35, 8.2, 139.0, 72.7, 13.6, 10.9, 0.74,\n",
    "              1.38, 3.63, 2.62, 4.7, 40.8, 33.3, 73.2, 206.0, 5.57, 29.0]\n",
    "\n",
    "    people = [MALE69, MALE40]\n",
    "\n",
    "    df = pd.read_csv('Data/test_data.csv')\n",
    "    df = df[0:len(people)].copy()\n",
    "    for i, biomarkers in enumerate(people):\n",
    "        df[i:i+1] = biomarkers\n",
    "    \n",
    "    df.to_csv('Data/non_NHANES/samples_from_aging.csv', index=False)"
   ]
  },
  {
   "cell_type": "code",
   "execution_count": 7,
   "id": "24acabca",
   "metadata": {},
   "outputs": [],
   "source": [
    "make_test_train_full()\n",
    "make_biomarkers_units()\n",
    "make_samples()"
   ]
  }
 ],
 "metadata": {
  "kernelspec": {
   "display_name": "Python 3 (ipykernel)",
   "language": "python",
   "name": "python3"
  },
  "language_info": {
   "codemirror_mode": {
    "name": "ipython",
    "version": 3
   },
   "file_extension": ".py",
   "mimetype": "text/x-python",
   "name": "python",
   "nbconvert_exporter": "python",
   "pygments_lexer": "ipython3",
   "version": "3.8.2"
  }
 },
 "nbformat": 4,
 "nbformat_minor": 5
}
