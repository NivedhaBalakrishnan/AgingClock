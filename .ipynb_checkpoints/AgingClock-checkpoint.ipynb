{
 "cells": [
  {
   "cell_type": "markdown",
   "id": "6a348e34",
   "metadata": {},
   "source": [
    "### This program strives to emulate the work done in this research paper \"Human Age Prediction Based on DNA Methylation Using a Gradient Boosting Regressor\"\n",
    "https://www.mdpi.com/2073-4425/9/9/424"
   ]
  },
  {
   "cell_type": "code",
   "execution_count": 1,
   "id": "c1cc554f",
   "metadata": {},
   "outputs": [],
   "source": [
    "import pandas as pd\n",
    "import matplotlib as mpl\n",
    "import numpy as np\n",
    "import sklearn\n",
    "\n",
    "%matplotlib inline\n",
    "HEALTHY_PATH = \"./data/Healthy_Methylation_Dataset.csv\"\n",
    "DISEASED_PATH = \"./data/Disease_Methylation_Dataset.csv\"\n",
    "np.random.seed(0)\n",
    "\n",
    "#TODO: on-demand data fetching, (pre)processing and merging?"
   ]
  },
  {
   "cell_type": "code",
   "execution_count": 2,
   "id": "3ecf7d53",
   "metadata": {
    "scrolled": true
   },
   "outputs": [],
   "source": [
    "#Download, drop NAs, and reset the index\n",
    "healthy = pd.read_csv(HEALTHY_PATH)\n",
    "healthy.dropna(inplace=True)\n",
    "healthy.reset_index(drop=True, inplace=True)"
   ]
  },
  {
   "cell_type": "code",
   "execution_count": 3,
   "id": "b5538b7f",
   "metadata": {},
   "outputs": [],
   "source": [
    "#Adding categorical age column for proportional splitting\n",
    "AGE_GROUP_AMOUNT = 8\n",
    "healthy[\"age_group\"] = pd.cut(healthy[\"age\"], bins=AGE_GROUP_AMOUNT,labels=range(AGE_GROUP_AMOUNT))"
   ]
  },
  {
   "cell_type": "code",
   "execution_count": 4,
   "id": "af184fe2",
   "metadata": {},
   "outputs": [],
   "source": [
    "from sklearn.model_selection import StratifiedShuffleSplit\n",
    "#Make train test split with proportional age groups\n",
    "split = StratifiedShuffleSplit(n_splits=1, test_size=0.2, random_state=0)\n",
    "for train_index, test_index in split.split(healthy, healthy[\"age_group\"]):\n",
    "    strat_train_set = healthy.iloc[train_index]\n",
    "    strat_test_set = healthy.iloc[test_index]\n",
    "\n",
    "healthy = strat_train_set.copy()"
   ]
  },
  {
   "cell_type": "code",
   "execution_count": 5,
   "id": "842dd2c3",
   "metadata": {},
   "outputs": [],
   "source": [
    "from sklearn.base import BaseEstimator, TransformerMixin\n",
    "\n",
    "class Cleaner(BaseEstimator, TransformerMixin):\n",
    "    def fit(self, X, y=None):\n",
    "        return self\n",
    "    def transform(self, X):\n",
    "        X.drop(labels=[\"...1\", \"age_group\"], axis=1, inplace=True, errors=\"ignore\")\n",
    "        return X"
   ]
  },
  {
   "cell_type": "code",
   "execution_count": 6,
   "id": "854ff495",
   "metadata": {},
   "outputs": [],
   "source": [
    "from sklearn.pipeline import Pipeline\n",
    "from sklearn.preprocessing import StandardScaler\n",
    "\n",
    "pipeline = Pipeline([\n",
    "        ('clean', Cleane7r()),\n",
    "        ('std_scaler', StandardScaler()),\n",
    "    ])"
   ]
  },
  {
   "cell_type": "code",
   "execution_count": 7,
   "id": "ca361e1e",
   "metadata": {},
   "outputs": [],
   "source": [
    "healthy = pd.DataFrame(pipeline.fit_transform(healthy), index=healthy.index, columns=healthy.columns)\n",
    "X = healthy.drop(labels=\"age\", axis=1)\n",
    "y = healthy[\"age\"]"
   ]
  },
  {
   "cell_type": "code",
   "execution_count": 20,
   "id": "f062568f",
   "metadata": {},
   "outputs": [
    {
     "data": {
      "text/plain": [
       "GridSearchCV(cv=5,\n",
       "             estimator=RandomForestRegressor(n_jobs=-1, oob_score=True,\n",
       "                                             random_state=0),\n",
       "             n_jobs=-1,\n",
       "             param_grid=[{'max_features': [3, 4, 5],\n",
       "                          'max_leaf_nodes': [340, 350, 360],\n",
       "                          'n_estimators': [350, 400, 450]}],\n",
       "             return_train_score=True, scoring='neg_mean_squared_error')"
      ]
     },
     "execution_count": 20,
     "metadata": {},
     "output_type": "execute_result"
    }
   ],
   "source": [
    "from sklearn.model_selection import GridSearchCV\n",
    "from sklearn.ensemble import RandomForestRegressor\n",
    "\n",
    "\n",
    "param_grid = [\n",
    "    {\"n_estimators\": [350, 400, 450], \"max_leaf_nodes\": [340, 350, 360], \"max_features\": [3, 4, 5]}]\n",
    "\n",
    "rfr = RandomForestRegressor(random_state=0, n_jobs=-1, oob_score=True)\n",
    "\n",
    "grid_search = GridSearchCV(rfr, param_grid, n_jobs=-1, return_train_score=True, cv=5, \n",
    "                           scoring=\"neg_mean_squared_error\")\n",
    "\n",
    "grid_search.fit(X, y)\n"
   ]
  },
  {
   "cell_type": "code",
   "execution_count": 22,
   "id": "8384336c",
   "metadata": {},
   "outputs": [
    {
     "data": {
      "text/plain": [
       "-0.00908127951169586"
      ]
     },
     "execution_count": 22,
     "metadata": {},
     "output_type": "execute_result"
    }
   ],
   "source": [
    "grid_search.score(X, y)"
   ]
  },
  {
   "cell_type": "code",
   "execution_count": 30,
   "id": "67a4b6c3",
   "metadata": {},
   "outputs": [
    {
     "data": {
      "text/plain": [
       "GridSearchCV(cv=10, estimator=Ridge(), n_jobs=-1,\n",
       "             param_grid=[{'alpha': [1, 0.1, 0.01, 0.001, 0.0001, 1e-05,\n",
       "                                    1e-06]}],\n",
       "             return_train_score=True, scoring='neg_mean_squared_error')"
      ]
     },
     "execution_count": 30,
     "metadata": {},
     "output_type": "execute_result"
    }
   ],
   "source": [
    "from sklearn.linear_model import Ridge\n",
    "\n",
    "param_grid = [\n",
    "    {\"alpha\": [pow(10, -x) for x in range(7)]}]\n",
    "\n",
    "ridge = Ridge()\n",
    "\n",
    "grid_search = GridSearchCV(ridge, param_grid, n_jobs=-1, return_train_score=True, cv=10, \n",
    "                           scoring=\"neg_mean_squared_error\")\n",
    "\n",
    "grid_search.fit(X, y)"
   ]
  },
  {
   "cell_type": "code",
   "execution_count": 33,
   "id": "d102025b",
   "metadata": {},
   "outputs": [
    {
     "data": {
      "text/plain": [
       "-0.2543015402242401"
      ]
     },
     "execution_count": 33,
     "metadata": {},
     "output_type": "execute_result"
    }
   ],
   "source": [
    "grid_search.score(X, y)"
   ]
  },
  {
   "cell_type": "code",
   "execution_count": 37,
   "id": "d2dea827",
   "metadata": {},
   "outputs": [
    {
     "data": {
      "text/plain": [
       "-0.011668753213221729"
      ]
     },
     "execution_count": 37,
     "metadata": {},
     "output_type": "execute_result"
    }
   ],
   "source": [
    "from sklearn.ensemble import GradientBoostingRegressor\n",
    "\n",
    "param_grid = [\n",
    "    {\"n_estimators\": [10, 20, 50, 100, 200], \"max_depth\": [2, 3, 5, 10, 20], \"learning_rate\": [0.5, 0.75, 1]}]\n",
    "\n",
    "gbr = GradientBoostingRegressor(random_state=0)\n",
    "\n",
    "grid_search = GridSearchCV(gbr, param_grid, n_jobs=-1, return_train_score=True, cv=5, \n",
    "                           scoring=\"neg_mean_squared_error\")\n",
    "\n",
    "grid_search.fit(X, y)\n",
    "grid_search.score(X, y)"
   ]
  }
 ],
 "metadata": {
  "kernelspec": {
   "display_name": "Python 3 (ipykernel)",
   "language": "python",
   "name": "python3"
  },
  "language_info": {
   "codemirror_mode": {
    "name": "ipython",
    "version": 3
   },
   "file_extension": ".py",
   "mimetype": "text/x-python",
   "name": "python",
   "nbconvert_exporter": "python",
   "pygments_lexer": "ipython3",
   "version": "3.9.7"
  }
 },
 "nbformat": 4,
 "nbformat_minor": 5
}
