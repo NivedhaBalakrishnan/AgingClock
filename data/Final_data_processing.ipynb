{
 "cells": [
  {
   "cell_type": "markdown",
   "id": "fe454deb",
   "metadata": {},
   "source": [
    "### Import packages"
   ]
  },
  {
   "cell_type": "code",
   "execution_count": 1,
   "id": "662124fb",
   "metadata": {},
   "outputs": [],
   "source": [
    "import pandas as pd\n",
    "from os import listdir\n",
    "from os.path import isfile, join\n",
    "from functools import reduce"
   ]
  },
  {
   "cell_type": "markdown",
   "id": "2cd3a53a",
   "metadata": {},
   "source": [
    "### Import all files from directories"
   ]
  },
  {
   "cell_type": "code",
   "execution_count": 2,
   "id": "d2cd591c",
   "metadata": {},
   "outputs": [],
   "source": [
    "albcr = [f for f in listdir(\"albcr\") if isfile(join(\"albcr\", f))]\n",
    "bio = [f for f in listdir(\"bio\") if isfile(join(\"bio\", f))]\n",
    "cbc = [f for f in listdir(\"cbc\") if isfile(join(\"cbc\", f))]\n",
    "chol = [f for f in listdir(\"chol\") if isfile(join(\"chol\", f))]\n",
    "cholhdl = [f for f in listdir(\"cholhdl\") if isfile(join(\"cholhdl\", f))]\n",
    "demo = [f for f in listdir(\"demo\") if isfile(join(\"demo\", f))]\n",
    "glu = [f for f in listdir(\"glu\") if isfile(join(\"glu\", f))]\n",
    "hdl = [f for f in listdir(\"hdl\") if isfile(join(\"hdl\", f))]\n",
    "trildl = [f for f in listdir(\"trildl\") if isfile(join(\"trildl\", f))]"
   ]
  },
  {
   "cell_type": "markdown",
   "id": "3a803ae4",
   "metadata": {},
   "source": [
    "#### Give string values to gender"
   ]
  },
  {
   "cell_type": "code",
   "execution_count": 3,
   "id": "46436e74",
   "metadata": {},
   "outputs": [],
   "source": [
    "def gender(x):\n",
    "    x = int(x)\n",
    "    if x == 1:\n",
    "        return \"M\"\n",
    "    elif x == 2:\n",
    "        return \"F\""
   ]
  },
  {
   "cell_type": "markdown",
   "id": "23e8fec8",
   "metadata": {},
   "source": [
    "### Extracting demographical data"
   ]
  },
  {
   "cell_type": "code",
   "execution_count": 4,
   "id": "02c02d83",
   "metadata": {},
   "outputs": [],
   "source": [
    "demo_data = pd.DataFrame()\n",
    "for i in demo:\n",
    "    temp = pd.read_sas(\"demo/\"+i)\n",
    "    temp = temp[[\"SEQN\",\"RIAGENDR\",\"RIDAGEYR\"]]\n",
    "    temp.columns = [\"SEQN\",\"GENDER\",\"AGE\"]\n",
    "    temp = temp.astype({\"AGE\":int,\"SEQN\":int})\n",
    "    temp[\"GENDER\"] = temp[\"GENDER\"].apply(gender)\n",
    "    demo_data = pd.concat([demo_data,temp],axis=0)\n",
    "    del temp"
   ]
  },
  {
   "cell_type": "markdown",
   "id": "6511610c",
   "metadata": {},
   "source": [
    "### Extracting Albumin and Creatinine "
   ]
  },
  {
   "cell_type": "code",
   "execution_count": 5,
   "id": "85f03cb6",
   "metadata": {},
   "outputs": [],
   "source": [
    "albcr_data = pd.DataFrame()\n",
    "for i in albcr:\n",
    "    temp = pd.read_sas(\"albcr/\"+i)\n",
    "    if \"URXUMS\" in temp:\n",
    "        albumin = \"URXUMS\"\n",
    "    elif \"URXUMASI\" in temp:\n",
    "        albumin = \"URXUMASI\"\n",
    "    temp = temp[[\"SEQN\",albumin,\"URXUCR\"]]\n",
    "    temp.columns = [\"SEQN\",\"Albumin_mgl\",\"Creatinine_mgdl\"]\n",
    "    temp = temp.astype({\"SEQN\":int})\n",
    "    albcr_data = pd.concat([albcr_data,temp],axis=0)\n",
    "    del temp"
   ]
  },
  {
   "cell_type": "markdown",
   "id": "33189cab",
   "metadata": {},
   "source": [
    "### Extracting data from standard biochemistry profile"
   ]
  },
  {
   "cell_type": "code",
   "execution_count": 6,
   "id": "9e8f480d",
   "metadata": {
    "scrolled": false
   },
   "outputs": [],
   "source": [
    "bio_data = pd.DataFrame()\n",
    "for i in bio:\n",
    "    temp = pd.read_sas(\"bio/\"+i)\n",
    "    if \"LBXSAPSI\" in temp:\n",
    "        alkPho = \"LBXSAPSI\"\n",
    "    elif \"LBDSAPSI\" in temp:\n",
    "        alkPho = \"LBDSAPSI\"\n",
    "    temp = temp[[\"SEQN\",\"LBXSKSI\",\"LBXSNASI\",\"LBDSTBSI\",\"LBDSCASI\",\"LBXSTP\",\"LBDSBUSI\",alkPho]]\n",
    "    temp.columns = [\"SEQN\",\"Potassium_mmolL\",\"Sodium_mmolL\",\"Bilirubin_umolL\",\"Calcium_mmolL\",\"Protein_gdL\",\"Urea_mmolL\",\n",
    "                   \"AlkPhos_UL\"]\n",
    "    temp = temp.astype({\"SEQN\":int})\n",
    "    bio_data = pd.concat([bio_data,temp],axis=0)\n",
    "    del temp"
   ]
  },
  {
   "cell_type": "markdown",
   "id": "374a0200",
   "metadata": {},
   "source": [
    "### Extracting Glucose"
   ]
  },
  {
   "cell_type": "code",
   "execution_count": 7,
   "id": "56946511",
   "metadata": {},
   "outputs": [],
   "source": [
    "glu_data = pd.DataFrame()\n",
    "for i in glu:\n",
    "    temp = pd.read_sas(\"glu/\"+i)\n",
    "    if \"LBDGLUSI\" in temp:\n",
    "        glucose = \"LBDGLUSI\"\n",
    "    elif \"LBXGLUSI\" in temp:\n",
    "        glucose = \"LBXGLUSI\"\n",
    "    else:\n",
    "        print(i)\n",
    "    temp = temp[[\"SEQN\",glucose]]\n",
    "    temp.columns = [\"SEQN\",\"Glucose_mmolL\"]\n",
    "    temp = temp.astype({\"SEQN\":int})\n",
    "    glu_data = pd.concat([glu_data,temp],axis=0)\n",
    "    del temp"
   ]
  },
  {
   "cell_type": "markdown",
   "id": "fafb8143",
   "metadata": {},
   "source": [
    "### Extracting LDL and Triglyceride"
   ]
  },
  {
   "cell_type": "code",
   "execution_count": 8,
   "id": "4d04c306",
   "metadata": {},
   "outputs": [],
   "source": [
    "trildl_data = pd.DataFrame()\n",
    "for i in trildl:\n",
    "    temp = pd.read_sas(\"trildl/\"+i)\n",
    "    temp = temp[[\"SEQN\",\"LBDLDLSI\",\"LBDTRSI\"]]\n",
    "    temp.columns = [\"SEQN\",\"LDL_mmolL\",\"Triglyceride_mmolL\"]\n",
    "    temp = temp.astype({\"SEQN\":int})\n",
    "    trildl_data = pd.concat([trildl_data,temp],axis=0)\n",
    "    del temp"
   ]
  },
  {
   "cell_type": "markdown",
   "id": "116c734d",
   "metadata": {},
   "source": [
    "### Extracting HDL"
   ]
  },
  {
   "cell_type": "code",
   "execution_count": 9,
   "id": "cef00a1a",
   "metadata": {},
   "outputs": [],
   "source": [
    "hdl_data = pd.DataFrame()\n",
    "for i in hdl:\n",
    "    temp = pd.read_sas(\"hdl/\"+i)\n",
    "    temp = temp[[\"SEQN\",\"LBDHDDSI\"]]\n",
    "    temp.columns = [\"SEQN\",\"HDL_mmolL\"]\n",
    "    temp = temp.astype({\"SEQN\":int})\n",
    "    hdl_data = pd.concat([hdl_data,temp],axis=0)\n",
    "    del temp"
   ]
  },
  {
   "cell_type": "markdown",
   "id": "b335b608",
   "metadata": {},
   "source": [
    "### Extracting Total Cholesterol"
   ]
  },
  {
   "cell_type": "code",
   "execution_count": 10,
   "id": "d196f164",
   "metadata": {},
   "outputs": [],
   "source": [
    "chol_data = pd.DataFrame()\n",
    "for i in chol:\n",
    "    temp = pd.read_sas(\"chol/\"+i)\n",
    "    temp = temp[[\"SEQN\",\"LBDTCSI\"]]\n",
    "    temp.columns = [\"SEQN\",\"Cholesterol_mmolL\"]\n",
    "    temp = temp.astype({\"SEQN\":int})\n",
    "    chol_data = pd.concat([chol_data,temp],axis=0)\n",
    "    del temp"
   ]
  },
  {
   "cell_type": "markdown",
   "id": "33673257",
   "metadata": {},
   "source": [
    "#### Merge HDL and Cholesterol"
   ]
  },
  {
   "cell_type": "code",
   "execution_count": 11,
   "id": "6b26ccc5",
   "metadata": {},
   "outputs": [],
   "source": [
    "chol_hdl = pd.merge(hdl_data,chol_data,on=[\"SEQN\"],how=\"outer\")"
   ]
  },
  {
   "cell_type": "markdown",
   "id": "6b815d3b",
   "metadata": {},
   "source": [
    "### Extracting HDL and Cholesterol"
   ]
  },
  {
   "cell_type": "code",
   "execution_count": 12,
   "id": "3cbe6c4d",
   "metadata": {},
   "outputs": [],
   "source": [
    "x=0\n",
    "cholhdl_data = pd.DataFrame()\n",
    "for i in cholhdl:\n",
    "    temp = pd.read_sas(\"cholhdl/\"+i)\n",
    "    if \"LBDHDDSI\" in temp:\n",
    "        hdl = \"LBDHDDSI\"\n",
    "    elif \"LBDHDLSI\" in temp:\n",
    "        hdl = \"LBDHDLSI\"\n",
    "    temp = temp[[\"SEQN\",hdl,\"LBDTCSI\"]]\n",
    "    temp.columns = [\"SEQN\",\"HDL_mmolL\",\"Cholesterol_mmolL\"]\n",
    "    temp = temp.astype({\"SEQN\":int})\n",
    "    cholhdl_data = pd.concat([cholhdl_data,temp],axis=0)\n",
    "    del temp"
   ]
  },
  {
   "cell_type": "markdown",
   "id": "08443276",
   "metadata": {},
   "source": [
    "#### Concat both"
   ]
  },
  {
   "cell_type": "code",
   "execution_count": 13,
   "id": "31e385d4",
   "metadata": {},
   "outputs": [],
   "source": [
    "cholhdl_data = pd.concat([cholhdl_data,chol_hdl],axis=0)"
   ]
  },
  {
   "cell_type": "markdown",
   "id": "f3dd8cc7",
   "metadata": {},
   "source": [
    "### Extracting Complete blood count"
   ]
  },
  {
   "cell_type": "code",
   "execution_count": 14,
   "id": "be6d5c41",
   "metadata": {},
   "outputs": [],
   "source": [
    "x=0\n",
    "cbc_data = pd.DataFrame()\n",
    "for i in cbc:\n",
    "    temp = pd.read_sas(\"cbc/\"+i)\n",
    "    temp = temp[[\"SEQN\",\"LBXRBCSI\",\"LBXHGB\",\"LBXHCT\",\"LBXMCVSI\",\"LBXMC\",\"LBXPLTSI\"]]\n",
    "    temp.columns = [\"SEQN\",\"RBC_MuL\",\"Hemoglobin_gdl\",\"Hematocrit_%\",\"MCV_fL\",\"MCHC_gdl\",\"Platelet_TuL\"]\n",
    "    temp = temp.astype({\"SEQN\":int})\n",
    "    cbc_data = pd.concat([cbc_data,temp],axis=0)\n",
    "    del temp"
   ]
  },
  {
   "cell_type": "markdown",
   "id": "ccfa32fc",
   "metadata": {},
   "source": [
    "### Merge Dataframes"
   ]
  },
  {
   "cell_type": "code",
   "execution_count": 15,
   "id": "031c0307",
   "metadata": {},
   "outputs": [],
   "source": [
    "dfs = [demo_data,albcr_data,glu_data,bio_data,trildl_data,cholhdl_data,cbc_data]\n",
    "data = reduce(lambda  left,right: pd.merge(left,right,on=['SEQN'],\n",
    "                                            how='outer'), dfs)"
   ]
  },
  {
   "cell_type": "markdown",
   "id": "f6eead03",
   "metadata": {},
   "source": [
    "### Drop NaN values"
   ]
  },
  {
   "cell_type": "code",
   "execution_count": 16,
   "id": "dc94d7f2",
   "metadata": {},
   "outputs": [],
   "source": [
    "data = data.dropna()"
   ]
  },
  {
   "cell_type": "markdown",
   "id": "f38e0bf5",
   "metadata": {},
   "source": [
    "### For age 20+"
   ]
  },
  {
   "cell_type": "code",
   "execution_count": 17,
   "id": "d54b8881",
   "metadata": {},
   "outputs": [],
   "source": [
    "data = data[data[\"AGE\"]>=20]"
   ]
  },
  {
   "cell_type": "markdown",
   "id": "1cd8ca40",
   "metadata": {},
   "source": [
    "### Reorder Columns"
   ]
  },
  {
   "cell_type": "code",
   "execution_count": 20,
   "id": "5c2cc0a4",
   "metadata": {},
   "outputs": [],
   "source": [
    "data = data[[\"SEQN\",\"GENDER\",\"Albumin_mgl\",\"Glucose_mmolL\",\"Urea_mmolL\",\"Cholesterol_mmolL\",\"Protein_gdL\",\"Sodium_mmolL\",\n",
    "             \"Creatinine_mgdl\",\"Hemoglobin_gdl\",\"Bilirubin_umolL\",\"Triglyceride_mmolL\",\"HDL_mmolL\",\"LDL_mmolL\",\n",
    "             \"Calcium_mmolL\",\"Potassium_mmolL\",\"AlkPhos_UL\",\"Hematocrit_%\",\"MCHC_gdl\",\"MCV_fL\",\"Platelet_TuL\",\"RBC_MuL\",\"AGE\"]]"
   ]
  },
  {
   "cell_type": "markdown",
   "id": "bfc42bcc",
   "metadata": {},
   "source": [
    "### Export to CSV"
   ]
  },
  {
   "cell_type": "code",
   "execution_count": 22,
   "id": "607f8bcc",
   "metadata": {},
   "outputs": [],
   "source": [
    "data.to_csv(r\"D:\\A_SJSU\\Python\\Program\\Jupyter_notebook\\ML\\aging clock\\data\\data.csv\",index=False,header=True)"
   ]
  },
  {
   "cell_type": "markdown",
   "id": "afcb230a",
   "metadata": {},
   "source": [
    "### Data for Deep Learning"
   ]
  },
  {
   "cell_type": "code",
   "execution_count": null,
   "id": "b9bc1729",
   "metadata": {},
   "outputs": [],
   "source": [
    "# Removing SEQN and assigning binary for gender\n",
    "data[\"GENDER\"] = data[\"GENDER\"].map(dict(M=0, F=1))\n",
    "data = data.drop([\"SEQN\"],axis=1)"
   ]
  },
  {
   "cell_type": "code",
   "execution_count": null,
   "id": "9eef90a8",
   "metadata": {},
   "outputs": [],
   "source": [
    "data.to_csv(r\"D:\\A_SJSU\\Python\\Program\\Jupyter_notebook\\ML\\aging clock\\data\\data_for_DL.csv\",index=False,header=True)"
   ]
  },
  {
   "cell_type": "code",
   "execution_count": null,
   "id": "c4e6a4c7",
   "metadata": {},
   "outputs": [],
   "source": []
  },
  {
   "cell_type": "code",
   "execution_count": null,
   "id": "1ca6f4da",
   "metadata": {},
   "outputs": [],
   "source": []
  }
 ],
 "metadata": {
  "kernelspec": {
   "display_name": "Python 3",
   "language": "python",
   "name": "python3"
  },
  "language_info": {
   "codemirror_mode": {
    "name": "ipython",
    "version": 3
   },
   "file_extension": ".py",
   "mimetype": "text/x-python",
   "name": "python",
   "nbconvert_exporter": "python",
   "pygments_lexer": "ipython3",
   "version": "3.8.8"
  }
 },
 "nbformat": 4,
 "nbformat_minor": 5
}
