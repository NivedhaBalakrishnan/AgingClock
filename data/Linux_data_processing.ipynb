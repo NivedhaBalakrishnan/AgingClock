{
 "cells": [
  {
   "cell_type": "markdown",
   "id": "fe454deb",
   "metadata": {},
   "source": [
    "### Import packages"
   ]
  },
  {
   "cell_type": "code",
   "execution_count": 1,
   "id": "435af246-0f25-4a42-91e0-916536953c12",
   "metadata": {},
   "outputs": [],
   "source": [
    "import pandas as pd\n",
    "from os import listdir\n",
    "from os.path import isfile, join\n",
    "from functools import reduce"
   ]
  },
  {
   "cell_type": "markdown",
   "id": "2cd3a53a",
   "metadata": {},
   "source": [
    "### Import all files from directories"
   ]
  },
  {
   "cell_type": "code",
   "execution_count": 2,
   "id": "9cbdac90-d8af-4c40-81a1-ea00f6651df0",
   "metadata": {},
   "outputs": [],
   "source": [
    "from pathlib import Path\n",
    "DATA_PATH = Path.cwd()/'NHANES_Data/'\n",
    "get_filenames = lambda dir_name: [path.name for path in (DATA_PATH/dir_name).iterdir() if path.is_file()]"
   ]
  },
  {
   "cell_type": "code",
   "execution_count": 3,
   "id": "a87770cd-ae7a-41a6-a20a-c38c64845c34",
   "metadata": {},
   "outputs": [],
   "source": [
    "albcr = get_filenames(\"albcr\")\n",
    "bio = get_filenames(\"bio\")\n",
    "cbc = get_filenames(\"cbc\")\n",
    "chol = get_filenames(\"chol\")\n",
    "cholhdl = get_filenames(\"cholhdl\")\n",
    "demo = get_filenames(\"demo\")\n",
    "glu = get_filenames(\"glu\")\n",
    "hdl = get_filenames(\"hdl\")\n",
    "trildl = get_filenames(\"trildl\")"
   ]
  },
  {
   "cell_type": "markdown",
   "id": "3a803ae4",
   "metadata": {},
   "source": [
    "#### Give string values to gender"
   ]
  },
  {
   "cell_type": "code",
   "execution_count": 4,
   "id": "46436e74",
   "metadata": {},
   "outputs": [],
   "source": [
    "def gender(x):\n",
    "    x = int(x)\n",
    "    if x == 1:\n",
    "        return \"M\"\n",
    "    elif x == 2:\n",
    "        return \"F\""
   ]
  },
  {
   "cell_type": "markdown",
   "id": "23e8fec8",
   "metadata": {},
   "source": [
    "### Extracting demographical data"
   ]
  },
  {
   "cell_type": "code",
   "execution_count": 5,
   "id": "02c02d83",
   "metadata": {},
   "outputs": [
    {
     "name": "stderr",
     "output_type": "stream",
     "text": [
      "/home/ja/miniconda3/envs/fastAI/lib/python3.8/site-packages/pandas/io/sas/sas_xport.py:475: PerformanceWarning: DataFrame is highly fragmented.  This is usually the result of calling `frame.insert` many times, which has poor performance.  Consider joining all columns at once using pd.concat(axis=1) instead.  To get a de-fragmented frame, use `newframe = frame.copy()`\n",
      "  df[x] = v\n"
     ]
    }
   ],
   "source": [
    "demo_data = pd.DataFrame()\n",
    "for i in demo:\n",
    "    temp = pd.read_sas(DATA_PATH/\"demo/\"/i)\n",
    "    temp = temp[[\"SEQN\",\"RIAGENDR\",\"RIDAGEYR\"]]\n",
    "    temp.columns = [\"SEQN\",\"GENDER\",\"AGE\"]\n",
    "    temp = temp.astype({\"AGE\":int,\"SEQN\":int})\n",
    "    temp[\"GENDER\"] = temp[\"GENDER\"].apply(gender)\n",
    "    demo_data = pd.concat([demo_data,temp],axis=0)\n",
    "    del temp"
   ]
  },
  {
   "cell_type": "markdown",
   "id": "6511610c",
   "metadata": {},
   "source": [
    "### Extracting Albumin and Creatinine "
   ]
  },
  {
   "cell_type": "code",
   "execution_count": 6,
   "id": "85f03cb6",
   "metadata": {},
   "outputs": [],
   "source": [
    "albcr_data = pd.DataFrame()\n",
    "for i in albcr:\n",
    "    temp = pd.read_sas(DATA_PATH/\"albcr/\"/i)\n",
    "    if \"URXUMS\" in temp:\n",
    "        albumin = \"URXUMS\"\n",
    "    elif \"URXUMASI\" in temp:\n",
    "        albumin = \"URXUMASI\"\n",
    "    temp = temp[[\"SEQN\",albumin,\"URXUCR\"]]\n",
    "    temp.columns = [\"SEQN\",\"Albumin_mgl\",\"Creatinine_mgdl\"]\n",
    "    temp = temp.astype({\"SEQN\":int})\n",
    "    albcr_data = pd.concat([albcr_data,temp],axis=0)\n",
    "    del temp"
   ]
  },
  {
   "cell_type": "markdown",
   "id": "33189cab",
   "metadata": {},
   "source": [
    "### Extracting data from standard biochemistry profile"
   ]
  },
  {
   "cell_type": "code",
   "execution_count": 7,
   "id": "9e8f480d",
   "metadata": {},
   "outputs": [],
   "source": [
    "bio_data = pd.DataFrame()\n",
    "for i in bio:\n",
    "    temp = pd.read_sas(DATA_PATH/\"bio/\"/i)\n",
    "    if \"LBXSAPSI\" in temp:\n",
    "        alkPho = \"LBXSAPSI\"\n",
    "    elif \"LBDSAPSI\" in temp:\n",
    "        alkPho = \"LBDSAPSI\"\n",
    "    temp = temp[[\"SEQN\",\"LBXSKSI\",\"LBXSNASI\",\"LBDSTBSI\",\"LBDSCASI\",\"LBXSTP\",\"LBDSBUSI\",alkPho]]\n",
    "    temp.columns = [\"SEQN\",\"Potassium_mmolL\",\"Sodium_mmolL\",\"Bilirubin_umolL\",\"Calcium_mmolL\",\"Protein_gdL\",\"Urea_mmolL\",\n",
    "                   \"AlkPhos_UL\"]\n",
    "    temp = temp.astype({\"SEQN\":int})\n",
    "    bio_data = pd.concat([bio_data,temp],axis=0)\n",
    "    del temp"
   ]
  },
  {
   "cell_type": "markdown",
   "id": "374a0200",
   "metadata": {},
   "source": [
    "### Extracting Glucose"
   ]
  },
  {
   "cell_type": "code",
   "execution_count": 8,
   "id": "56946511",
   "metadata": {},
   "outputs": [],
   "source": [
    "glu_data = pd.DataFrame()\n",
    "for i in glu:\n",
    "    temp = pd.read_sas(DATA_PATH/\"glu/\"/i)\n",
    "    if \"LBDGLUSI\" in temp:\n",
    "        glucose = \"LBDGLUSI\"\n",
    "    elif \"LBXGLUSI\" in temp:\n",
    "        glucose = \"LBXGLUSI\"\n",
    "    else:\n",
    "        print(i)\n",
    "    temp = temp[[\"SEQN\",glucose]]\n",
    "    temp.columns = [\"SEQN\",\"Glucose_mmolL\"]\n",
    "    temp = temp.astype({\"SEQN\":int})\n",
    "    glu_data = pd.concat([glu_data,temp],axis=0)\n",
    "    del temp"
   ]
  },
  {
   "cell_type": "markdown",
   "id": "fafb8143",
   "metadata": {},
   "source": [
    "### Extracting LDL and Triglyceride"
   ]
  },
  {
   "cell_type": "code",
   "execution_count": 9,
   "id": "4d04c306",
   "metadata": {},
   "outputs": [],
   "source": [
    "trildl_data = pd.DataFrame()\n",
    "for i in trildl:\n",
    "    temp = pd.read_sas(DATA_PATH/\"trildl/\"/i)\n",
    "    temp = temp[[\"SEQN\",\"LBDLDLSI\",\"LBDTRSI\"]]\n",
    "    temp.columns = [\"SEQN\",\"LDL_mmolL\",\"Triglyceride_mmolL\"]\n",
    "    temp = temp.astype({\"SEQN\":int})\n",
    "    trildl_data = pd.concat([trildl_data,temp],axis=0)\n",
    "    del temp"
   ]
  },
  {
   "cell_type": "markdown",
   "id": "116c734d",
   "metadata": {},
   "source": [
    "### Extracting HDL"
   ]
  },
  {
   "cell_type": "code",
   "execution_count": 10,
   "id": "cef00a1a",
   "metadata": {},
   "outputs": [],
   "source": [
    "hdl_data = pd.DataFrame()\n",
    "for i in hdl:\n",
    "    temp = pd.read_sas(DATA_PATH/\"hdl/\"/i)\n",
    "    temp = temp[[\"SEQN\",\"LBDHDDSI\"]]\n",
    "    temp.columns = [\"SEQN\",\"HDL_mmolL\"]\n",
    "    temp = temp.astype({\"SEQN\":int})\n",
    "    hdl_data = pd.concat([hdl_data,temp],axis=0)\n",
    "    del temp"
   ]
  },
  {
   "cell_type": "markdown",
   "id": "b335b608",
   "metadata": {},
   "source": [
    "### Extracting Total Cholesterol"
   ]
  },
  {
   "cell_type": "code",
   "execution_count": 11,
   "id": "d196f164",
   "metadata": {},
   "outputs": [],
   "source": [
    "chol_data = pd.DataFrame()\n",
    "for i in chol:\n",
    "    temp = pd.read_sas(DATA_PATH/\"chol/\"/i)\n",
    "    temp = temp[[\"SEQN\",\"LBDTCSI\"]]\n",
    "    temp.columns = [\"SEQN\",\"Cholesterol_mmolL\"]\n",
    "    temp = temp.astype({\"SEQN\":int})\n",
    "    chol_data = pd.concat([chol_data,temp],axis=0)\n",
    "    del temp"
   ]
  },
  {
   "cell_type": "markdown",
   "id": "33673257",
   "metadata": {},
   "source": [
    "#### Merge HDL and Cholesterol"
   ]
  },
  {
   "cell_type": "code",
   "execution_count": 12,
   "id": "6b26ccc5",
   "metadata": {},
   "outputs": [],
   "source": [
    "chol_hdl = pd.merge(hdl_data,chol_data,on=[\"SEQN\"],how=\"outer\")"
   ]
  },
  {
   "cell_type": "markdown",
   "id": "6b815d3b",
   "metadata": {},
   "source": [
    "### Extracting HDL and Cholesterol"
   ]
  },
  {
   "cell_type": "code",
   "execution_count": 13,
   "id": "3cbe6c4d",
   "metadata": {},
   "outputs": [],
   "source": [
    "x=0\n",
    "cholhdl_data = pd.DataFrame()\n",
    "for i in cholhdl:\n",
    "    temp = pd.read_sas(DATA_PATH/\"cholhdl/\"/i)\n",
    "    if \"LBDHDDSI\" in temp:\n",
    "        hdl = \"LBDHDDSI\"\n",
    "    elif \"LBDHDLSI\" in temp:\n",
    "        hdl = \"LBDHDLSI\"\n",
    "    temp = temp[[\"SEQN\",hdl,\"LBDTCSI\"]]\n",
    "    temp.columns = [\"SEQN\",\"HDL_mmolL\",\"Cholesterol_mmolL\"]\n",
    "    temp = temp.astype({\"SEQN\":int})\n",
    "    cholhdl_data = pd.concat([cholhdl_data,temp],axis=0)\n",
    "    del temp"
   ]
  },
  {
   "cell_type": "markdown",
   "id": "08443276",
   "metadata": {},
   "source": [
    "#### Concat both"
   ]
  },
  {
   "cell_type": "code",
   "execution_count": 14,
   "id": "31e385d4",
   "metadata": {},
   "outputs": [],
   "source": [
    "cholhdl_data = pd.concat([cholhdl_data,chol_hdl],axis=0)"
   ]
  },
  {
   "cell_type": "markdown",
   "id": "f3dd8cc7",
   "metadata": {},
   "source": [
    "### Extracting Complete blood count"
   ]
  },
  {
   "cell_type": "code",
   "execution_count": 15,
   "id": "be6d5c41",
   "metadata": {},
   "outputs": [],
   "source": [
    "x=0\n",
    "cbc_data = pd.DataFrame()\n",
    "for i in cbc:\n",
    "    temp = pd.read_sas(DATA_PATH/\"cbc/\"/i)\n",
    "    temp = temp[[\"SEQN\",\"LBXRBCSI\",\"LBXHGB\",\"LBXHCT\",\"LBXMCVSI\",\"LBXMC\",\"LBXPLTSI\"]]\n",
    "    temp.columns = [\"SEQN\",\"RBC_MuL\",\"Hemoglobin_gdl\",\"Hematocrit_%\",\"MCV_fL\",\"MCHC_gdl\",\"Platelet_TuL\"]\n",
    "    temp = temp.astype({\"SEQN\":int})\n",
    "    cbc_data = pd.concat([cbc_data,temp],axis=0)\n",
    "    del temp"
   ]
  },
  {
   "cell_type": "markdown",
   "id": "ccfa32fc",
   "metadata": {},
   "source": [
    "### Merge Dataframes"
   ]
  },
  {
   "cell_type": "code",
   "execution_count": 16,
   "id": "031c0307",
   "metadata": {},
   "outputs": [],
   "source": [
    "dfs = [demo_data,albcr_data,glu_data,bio_data,trildl_data,cholhdl_data,cbc_data]\n",
    "data = reduce(lambda  left,right: pd.merge(left,right,on=['SEQN'],\n",
    "                                            how='outer'), dfs)"
   ]
  },
  {
   "cell_type": "markdown",
   "id": "f6eead03",
   "metadata": {},
   "source": [
    "### Drop NaN values"
   ]
  },
  {
   "cell_type": "code",
   "execution_count": 17,
   "id": "dc94d7f2",
   "metadata": {},
   "outputs": [],
   "source": [
    "data = data.dropna()"
   ]
  },
  {
   "cell_type": "markdown",
   "id": "f38e0bf5",
   "metadata": {},
   "source": [
    "### For age 20+"
   ]
  },
  {
   "cell_type": "code",
   "execution_count": 18,
   "id": "d54b8881",
   "metadata": {},
   "outputs": [],
   "source": [
    "data = data[data[\"AGE\"]>=20]"
   ]
  },
  {
   "cell_type": "markdown",
   "id": "1cd8ca40",
   "metadata": {},
   "source": [
    "### Reorder Columns"
   ]
  },
  {
   "cell_type": "code",
   "execution_count": 19,
   "id": "5c2cc0a4",
   "metadata": {},
   "outputs": [],
   "source": [
    "data = data[[\"SEQN\",\"GENDER\",\"Albumin_mgl\",\"Glucose_mmolL\",\"Urea_mmolL\",\"Cholesterol_mmolL\",\"Protein_gdL\",\"Sodium_mmolL\",\n",
    "             \"Creatinine_mgdl\",\"Hemoglobin_gdl\",\"Bilirubin_umolL\",\"Triglyceride_mmolL\",\"HDL_mmolL\",\"LDL_mmolL\",\n",
    "             \"Calcium_mmolL\",\"Potassium_mmolL\",\"AlkPhos_UL\",\"Hematocrit_%\",\"MCHC_gdl\",\"MCV_fL\",\"Platelet_TuL\",\"RBC_MuL\",\"AGE\"]]"
   ]
  },
  {
   "cell_type": "markdown",
   "id": "bfc42bcc",
   "metadata": {},
   "source": [
    "### Export to CSV"
   ]
  },
  {
   "cell_type": "code",
   "execution_count": 20,
   "id": "a22a401e-ae22-45d6-a7dd-1b1e6815abe8",
   "metadata": {},
   "outputs": [],
   "source": [
    "data.to_csv(DATA_PATH.parent/'Linux_data_processing.csv', index=False, header=True)"
   ]
  }
 ],
 "metadata": {
  "kernelspec": {
   "display_name": "Python 3 (ipykernel)",
   "language": "python",
   "name": "python3"
  },
  "language_info": {
   "codemirror_mode": {
    "name": "ipython",
    "version": 3
   },
   "file_extension": ".py",
   "mimetype": "text/x-python",
   "name": "python",
   "nbconvert_exporter": "python",
   "pygments_lexer": "ipython3",
   "version": "3.8.2"
  }
 },
 "nbformat": 4,
 "nbformat_minor": 5
}
